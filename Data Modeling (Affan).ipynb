{
 "cells": [
  {
   "cell_type": "code",
   "execution_count": 8,
   "metadata": {
    "collapsed": true
   },
   "outputs": [],
   "source": [
    "# Import the Numpy library\n",
    "import numpy as np\n",
    "# Import the Pandas library\n",
    "import pandas as pd\n",
    "# Import 'tree' from scikit-learn library\n",
    "from sklearn import tree"
   ]
  },
  {
   "cell_type": "code",
   "execution_count": 9,
   "metadata": {
    "collapsed": true
   },
   "outputs": [],
   "source": [
    "df = pd.read_csv('C:\\Program Files\\Git\\IDS-Project\\Data_EDA.csv', encoding = \"ISO-8859-1\")"
   ]
  },
  {
   "cell_type": "code",
   "execution_count": 10,
   "metadata": {
    "collapsed": true
   },
   "outputs": [],
   "source": [
    "pd.set_option('display.max_columns', None)"
   ]
  },
  {
   "cell_type": "code",
   "execution_count": 11,
   "metadata": {},
   "outputs": [
    {
     "data": {
      "text/html": [
       "<div>\n",
       "<style>\n",
       "    .dataframe thead tr:only-child th {\n",
       "        text-align: right;\n",
       "    }\n",
       "\n",
       "    .dataframe thead th {\n",
       "        text-align: left;\n",
       "    }\n",
       "\n",
       "    .dataframe tbody tr th {\n",
       "        vertical-align: top;\n",
       "    }\n",
       "</style>\n",
       "<table border=\"1\" class=\"dataframe\">\n",
       "  <thead>\n",
       "    <tr style=\"text-align: right;\">\n",
       "      <th></th>\n",
       "      <th>POP_CODE</th>\n",
       "      <th>POP_NAME</th>\n",
       "      <th>ORDER_STATUS</th>\n",
       "      <th>DOC_DATE_YEAR</th>\n",
       "      <th>DOC_DATE_QUARTER_YR</th>\n",
       "      <th>DOC_DATE_MONTH_YR</th>\n",
       "      <th>DOC_DATE_DAYS_MNTH</th>\n",
       "      <th>DOC_DATE_WEEK_MNTH</th>\n",
       "      <th>DOC_DATE_WEEK_YR</th>\n",
       "      <th>TOWN_CODE</th>\n",
       "      <th>TOWN_NAME</th>\n",
       "      <th>LOCALITY_CODE</th>\n",
       "      <th>LOCALITY_NAME</th>\n",
       "      <th>SLOCALITY_CODE</th>\n",
       "      <th>SLOCALITY_NAME</th>\n",
       "      <th>POS_TYPE_CODE</th>\n",
       "      <th>POS_TYPE_NAME</th>\n",
       "      <th>MARKET_CODE</th>\n",
       "      <th>MARKET_NAME</th>\n",
       "      <th>STREET_CODE</th>\n",
       "      <th>STREET_NAME</th>\n",
       "      <th>COMPANY_RANK</th>\n",
       "      <th>RANK</th>\n",
       "      <th>RURAL_CODE</th>\n",
       "      <th>RURAL_BOOL</th>\n",
       "      <th>CHANNEL_CODE</th>\n",
       "      <th>SUB_CHANNEL_CODE</th>\n",
       "      <th>ELEMENT_CODE</th>\n",
       "      <th>SUB_ELEMENT_CODE</th>\n",
       "    </tr>\n",
       "  </thead>\n",
       "  <tbody>\n",
       "    <tr>\n",
       "      <th>0</th>\n",
       "      <td>9001001003</td>\n",
       "      <td>ALAM MEDICAL STORE</td>\n",
       "      <td>0</td>\n",
       "      <td>2014</td>\n",
       "      <td>1</td>\n",
       "      <td>2</td>\n",
       "      <td>28</td>\n",
       "      <td>4</td>\n",
       "      <td>8</td>\n",
       "      <td>9</td>\n",
       "      <td>SOCIETY</td>\n",
       "      <td>3</td>\n",
       "      <td>BAHADURABAD</td>\n",
       "      <td>20</td>\n",
       "      <td>CHOTTI MARKET</td>\n",
       "      <td>7</td>\n",
       "      <td>Medical Store</td>\n",
       "      <td>622</td>\n",
       "      <td>FIRST CHORANGI</td>\n",
       "      <td>322</td>\n",
       "      <td>K.E.S.C NATIONAL COLLEGE</td>\n",
       "      <td>3</td>\n",
       "      <td>5</td>\n",
       "      <td>1</td>\n",
       "      <td>Y</td>\n",
       "      <td>1</td>\n",
       "      <td>1</td>\n",
       "      <td>3</td>\n",
       "      <td>7</td>\n",
       "    </tr>\n",
       "    <tr>\n",
       "      <th>1</th>\n",
       "      <td>9001001003</td>\n",
       "      <td>ALAM MEDICAL STORE</td>\n",
       "      <td>0</td>\n",
       "      <td>2014</td>\n",
       "      <td>1</td>\n",
       "      <td>3</td>\n",
       "      <td>31</td>\n",
       "      <td>1</td>\n",
       "      <td>10</td>\n",
       "      <td>9</td>\n",
       "      <td>SOCIETY</td>\n",
       "      <td>3</td>\n",
       "      <td>BAHADURABAD</td>\n",
       "      <td>20</td>\n",
       "      <td>CHOTTI MARKET</td>\n",
       "      <td>7</td>\n",
       "      <td>Medical Store</td>\n",
       "      <td>622</td>\n",
       "      <td>FIRST CHORANGI</td>\n",
       "      <td>322</td>\n",
       "      <td>K.E.S.C NATIONAL COLLEGE</td>\n",
       "      <td>3</td>\n",
       "      <td>5</td>\n",
       "      <td>1</td>\n",
       "      <td>Y</td>\n",
       "      <td>1</td>\n",
       "      <td>1</td>\n",
       "      <td>3</td>\n",
       "      <td>7</td>\n",
       "    </tr>\n",
       "    <tr>\n",
       "      <th>2</th>\n",
       "      <td>9001001003</td>\n",
       "      <td>ALAM MEDICAL STORE</td>\n",
       "      <td>1</td>\n",
       "      <td>2014</td>\n",
       "      <td>1</td>\n",
       "      <td>3</td>\n",
       "      <td>31</td>\n",
       "      <td>2</td>\n",
       "      <td>11</td>\n",
       "      <td>9</td>\n",
       "      <td>SOCIETY</td>\n",
       "      <td>3</td>\n",
       "      <td>BAHADURABAD</td>\n",
       "      <td>20</td>\n",
       "      <td>CHOTTI MARKET</td>\n",
       "      <td>7</td>\n",
       "      <td>Medical Store</td>\n",
       "      <td>622</td>\n",
       "      <td>FIRST CHORANGI</td>\n",
       "      <td>322</td>\n",
       "      <td>K.E.S.C NATIONAL COLLEGE</td>\n",
       "      <td>3</td>\n",
       "      <td>5</td>\n",
       "      <td>1</td>\n",
       "      <td>Y</td>\n",
       "      <td>1</td>\n",
       "      <td>1</td>\n",
       "      <td>3</td>\n",
       "      <td>7</td>\n",
       "    </tr>\n",
       "    <tr>\n",
       "      <th>3</th>\n",
       "      <td>9001001003</td>\n",
       "      <td>ALAM MEDICAL STORE</td>\n",
       "      <td>1</td>\n",
       "      <td>2014</td>\n",
       "      <td>1</td>\n",
       "      <td>3</td>\n",
       "      <td>31</td>\n",
       "      <td>3</td>\n",
       "      <td>12</td>\n",
       "      <td>9</td>\n",
       "      <td>SOCIETY</td>\n",
       "      <td>3</td>\n",
       "      <td>BAHADURABAD</td>\n",
       "      <td>20</td>\n",
       "      <td>CHOTTI MARKET</td>\n",
       "      <td>7</td>\n",
       "      <td>Medical Store</td>\n",
       "      <td>622</td>\n",
       "      <td>FIRST CHORANGI</td>\n",
       "      <td>322</td>\n",
       "      <td>K.E.S.C NATIONAL COLLEGE</td>\n",
       "      <td>3</td>\n",
       "      <td>5</td>\n",
       "      <td>1</td>\n",
       "      <td>Y</td>\n",
       "      <td>1</td>\n",
       "      <td>1</td>\n",
       "      <td>3</td>\n",
       "      <td>7</td>\n",
       "    </tr>\n",
       "    <tr>\n",
       "      <th>4</th>\n",
       "      <td>9001001003</td>\n",
       "      <td>ALAM MEDICAL STORE</td>\n",
       "      <td>0</td>\n",
       "      <td>2014</td>\n",
       "      <td>1</td>\n",
       "      <td>3</td>\n",
       "      <td>31</td>\n",
       "      <td>4</td>\n",
       "      <td>13</td>\n",
       "      <td>9</td>\n",
       "      <td>SOCIETY</td>\n",
       "      <td>3</td>\n",
       "      <td>BAHADURABAD</td>\n",
       "      <td>20</td>\n",
       "      <td>CHOTTI MARKET</td>\n",
       "      <td>7</td>\n",
       "      <td>Medical Store</td>\n",
       "      <td>622</td>\n",
       "      <td>FIRST CHORANGI</td>\n",
       "      <td>322</td>\n",
       "      <td>K.E.S.C NATIONAL COLLEGE</td>\n",
       "      <td>3</td>\n",
       "      <td>5</td>\n",
       "      <td>1</td>\n",
       "      <td>Y</td>\n",
       "      <td>1</td>\n",
       "      <td>1</td>\n",
       "      <td>3</td>\n",
       "      <td>7</td>\n",
       "    </tr>\n",
       "  </tbody>\n",
       "</table>\n",
       "</div>"
      ],
      "text/plain": [
       "     POP_CODE            POP_NAME  ORDER_STATUS  DOC_DATE_YEAR  \\\n",
       "0  9001001003  ALAM MEDICAL STORE             0           2014   \n",
       "1  9001001003  ALAM MEDICAL STORE             0           2014   \n",
       "2  9001001003  ALAM MEDICAL STORE             1           2014   \n",
       "3  9001001003  ALAM MEDICAL STORE             1           2014   \n",
       "4  9001001003  ALAM MEDICAL STORE             0           2014   \n",
       "\n",
       "   DOC_DATE_QUARTER_YR  DOC_DATE_MONTH_YR  DOC_DATE_DAYS_MNTH  \\\n",
       "0                    1                  2                  28   \n",
       "1                    1                  3                  31   \n",
       "2                    1                  3                  31   \n",
       "3                    1                  3                  31   \n",
       "4                    1                  3                  31   \n",
       "\n",
       "   DOC_DATE_WEEK_MNTH  DOC_DATE_WEEK_YR  TOWN_CODE TOWN_NAME  LOCALITY_CODE  \\\n",
       "0                   4                 8          9   SOCIETY              3   \n",
       "1                   1                10          9   SOCIETY              3   \n",
       "2                   2                11          9   SOCIETY              3   \n",
       "3                   3                12          9   SOCIETY              3   \n",
       "4                   4                13          9   SOCIETY              3   \n",
       "\n",
       "  LOCALITY_NAME  SLOCALITY_CODE SLOCALITY_NAME  POS_TYPE_CODE  POS_TYPE_NAME  \\\n",
       "0   BAHADURABAD              20  CHOTTI MARKET              7  Medical Store   \n",
       "1   BAHADURABAD              20  CHOTTI MARKET              7  Medical Store   \n",
       "2   BAHADURABAD              20  CHOTTI MARKET              7  Medical Store   \n",
       "3   BAHADURABAD              20  CHOTTI MARKET              7  Medical Store   \n",
       "4   BAHADURABAD              20  CHOTTI MARKET              7  Medical Store   \n",
       "\n",
       "   MARKET_CODE     MARKET_NAME  STREET_CODE               STREET_NAME  \\\n",
       "0          622  FIRST CHORANGI          322  K.E.S.C NATIONAL COLLEGE   \n",
       "1          622  FIRST CHORANGI          322  K.E.S.C NATIONAL COLLEGE   \n",
       "2          622  FIRST CHORANGI          322  K.E.S.C NATIONAL COLLEGE   \n",
       "3          622  FIRST CHORANGI          322  K.E.S.C NATIONAL COLLEGE   \n",
       "4          622  FIRST CHORANGI          322  K.E.S.C NATIONAL COLLEGE   \n",
       "\n",
       "   COMPANY_RANK  RANK  RURAL_CODE RURAL_BOOL  CHANNEL_CODE  SUB_CHANNEL_CODE  \\\n",
       "0             3     5           1          Y             1                 1   \n",
       "1             3     5           1          Y             1                 1   \n",
       "2             3     5           1          Y             1                 1   \n",
       "3             3     5           1          Y             1                 1   \n",
       "4             3     5           1          Y             1                 1   \n",
       "\n",
       "   ELEMENT_CODE  SUB_ELEMENT_CODE  \n",
       "0             3                 7  \n",
       "1             3                 7  \n",
       "2             3                 7  \n",
       "3             3                 7  \n",
       "4             3                 7  "
      ]
     },
     "execution_count": 11,
     "metadata": {},
     "output_type": "execute_result"
    }
   ],
   "source": [
    "df.head()"
   ]
  },
  {
   "cell_type": "code",
   "execution_count": 7,
   "metadata": {},
   "outputs": [
    {
     "data": {
      "text/html": [
       "<div>\n",
       "<style>\n",
       "    .dataframe thead tr:only-child th {\n",
       "        text-align: right;\n",
       "    }\n",
       "\n",
       "    .dataframe thead th {\n",
       "        text-align: left;\n",
       "    }\n",
       "\n",
       "    .dataframe tbody tr th {\n",
       "        vertical-align: top;\n",
       "    }\n",
       "</style>\n",
       "<table border=\"1\" class=\"dataframe\">\n",
       "  <thead>\n",
       "    <tr style=\"text-align: right;\">\n",
       "      <th></th>\n",
       "      <th>POP_CODE</th>\n",
       "      <th>POP_NAME</th>\n",
       "      <th>ORDER_STATUS</th>\n",
       "      <th>DOC_DATE_YEAR</th>\n",
       "      <th>DOC_DATE_QUARTER_YR</th>\n",
       "      <th>DOC_DATE_MONTH_YR</th>\n",
       "      <th>DOC_DATE_DAYS_MNTH</th>\n",
       "      <th>DOC_DATE_WEEK_MNTH</th>\n",
       "      <th>DOC_DATE_WEEK_YR</th>\n",
       "      <th>TOWN_CODE</th>\n",
       "      <th>TOWN_NAME</th>\n",
       "      <th>LOCALITY_CODE</th>\n",
       "      <th>LOCALITY_NAME</th>\n",
       "      <th>SLOCALITY_CODE</th>\n",
       "      <th>SLOCALITY_NAME</th>\n",
       "      <th>POS_TYPE_CODE</th>\n",
       "      <th>POS_TYPE_NAME</th>\n",
       "      <th>MARKET_CODE</th>\n",
       "      <th>MARKET_NAME</th>\n",
       "      <th>STREET_CODE</th>\n",
       "      <th>STREET_NAME</th>\n",
       "      <th>COMPANY_RANK</th>\n",
       "      <th>RANK</th>\n",
       "      <th>RURAL_CODE</th>\n",
       "      <th>RURAL_BOOL</th>\n",
       "      <th>CHANNEL_CODE</th>\n",
       "      <th>SUB_CHANNEL_CODE</th>\n",
       "      <th>ELEMENT_CODE</th>\n",
       "      <th>SUB_ELEMENT_CODE</th>\n",
       "    </tr>\n",
       "  </thead>\n",
       "  <tbody>\n",
       "    <tr>\n",
       "      <th>120654</th>\n",
       "      <td>27005005064</td>\n",
       "      <td>WAQAR GENERAL STORE</td>\n",
       "      <td>0</td>\n",
       "      <td>2017</td>\n",
       "      <td>3</td>\n",
       "      <td>9</td>\n",
       "      <td>30</td>\n",
       "      <td>1</td>\n",
       "      <td>36</td>\n",
       "      <td>27</td>\n",
       "      <td>SADDAR</td>\n",
       "      <td>34</td>\n",
       "      <td>SULTANABAD</td>\n",
       "      <td>100</td>\n",
       "      <td>RAILWAY COLONY</td>\n",
       "      <td>4</td>\n",
       "      <td>General Store</td>\n",
       "      <td>1631</td>\n",
       "      <td>RAILWAY COLONY UN LEASED PLOTS</td>\n",
       "      <td>134</td>\n",
       "      <td>CITY STATION</td>\n",
       "      <td>3</td>\n",
       "      <td>5</td>\n",
       "      <td>0</td>\n",
       "      <td>N</td>\n",
       "      <td>1</td>\n",
       "      <td>1</td>\n",
       "      <td>2</td>\n",
       "      <td>4</td>\n",
       "    </tr>\n",
       "    <tr>\n",
       "      <th>120655</th>\n",
       "      <td>27005005064</td>\n",
       "      <td>WAQAR GENERAL STORE</td>\n",
       "      <td>1</td>\n",
       "      <td>2017</td>\n",
       "      <td>3</td>\n",
       "      <td>9</td>\n",
       "      <td>30</td>\n",
       "      <td>2</td>\n",
       "      <td>37</td>\n",
       "      <td>27</td>\n",
       "      <td>SADDAR</td>\n",
       "      <td>34</td>\n",
       "      <td>SULTANABAD</td>\n",
       "      <td>100</td>\n",
       "      <td>RAILWAY COLONY</td>\n",
       "      <td>4</td>\n",
       "      <td>General Store</td>\n",
       "      <td>1631</td>\n",
       "      <td>RAILWAY COLONY UN LEASED PLOTS</td>\n",
       "      <td>134</td>\n",
       "      <td>CITY STATION</td>\n",
       "      <td>3</td>\n",
       "      <td>5</td>\n",
       "      <td>0</td>\n",
       "      <td>N</td>\n",
       "      <td>1</td>\n",
       "      <td>1</td>\n",
       "      <td>2</td>\n",
       "      <td>4</td>\n",
       "    </tr>\n",
       "    <tr>\n",
       "      <th>120656</th>\n",
       "      <td>27005005064</td>\n",
       "      <td>WAQAR GENERAL STORE</td>\n",
       "      <td>0</td>\n",
       "      <td>2017</td>\n",
       "      <td>3</td>\n",
       "      <td>9</td>\n",
       "      <td>30</td>\n",
       "      <td>4</td>\n",
       "      <td>38</td>\n",
       "      <td>27</td>\n",
       "      <td>SADDAR</td>\n",
       "      <td>34</td>\n",
       "      <td>SULTANABAD</td>\n",
       "      <td>100</td>\n",
       "      <td>RAILWAY COLONY</td>\n",
       "      <td>4</td>\n",
       "      <td>General Store</td>\n",
       "      <td>1631</td>\n",
       "      <td>RAILWAY COLONY UN LEASED PLOTS</td>\n",
       "      <td>134</td>\n",
       "      <td>CITY STATION</td>\n",
       "      <td>3</td>\n",
       "      <td>5</td>\n",
       "      <td>0</td>\n",
       "      <td>N</td>\n",
       "      <td>1</td>\n",
       "      <td>1</td>\n",
       "      <td>2</td>\n",
       "      <td>4</td>\n",
       "    </tr>\n",
       "    <tr>\n",
       "      <th>120657</th>\n",
       "      <td>27005005064</td>\n",
       "      <td>WAQAR GENERAL STORE</td>\n",
       "      <td>0</td>\n",
       "      <td>2017</td>\n",
       "      <td>3</td>\n",
       "      <td>9</td>\n",
       "      <td>30</td>\n",
       "      <td>4</td>\n",
       "      <td>39</td>\n",
       "      <td>27</td>\n",
       "      <td>SADDAR</td>\n",
       "      <td>34</td>\n",
       "      <td>SULTANABAD</td>\n",
       "      <td>100</td>\n",
       "      <td>RAILWAY COLONY</td>\n",
       "      <td>4</td>\n",
       "      <td>General Store</td>\n",
       "      <td>1631</td>\n",
       "      <td>RAILWAY COLONY UN LEASED PLOTS</td>\n",
       "      <td>134</td>\n",
       "      <td>CITY STATION</td>\n",
       "      <td>3</td>\n",
       "      <td>5</td>\n",
       "      <td>0</td>\n",
       "      <td>N</td>\n",
       "      <td>1</td>\n",
       "      <td>1</td>\n",
       "      <td>2</td>\n",
       "      <td>4</td>\n",
       "    </tr>\n",
       "    <tr>\n",
       "      <th>120658</th>\n",
       "      <td>27005005064</td>\n",
       "      <td>WAQAR GENERAL STORE</td>\n",
       "      <td>1</td>\n",
       "      <td>2017</td>\n",
       "      <td>4</td>\n",
       "      <td>10</td>\n",
       "      <td>31</td>\n",
       "      <td>1</td>\n",
       "      <td>40</td>\n",
       "      <td>27</td>\n",
       "      <td>SADDAR</td>\n",
       "      <td>34</td>\n",
       "      <td>SULTANABAD</td>\n",
       "      <td>100</td>\n",
       "      <td>RAILWAY COLONY</td>\n",
       "      <td>4</td>\n",
       "      <td>General Store</td>\n",
       "      <td>1631</td>\n",
       "      <td>RAILWAY COLONY UN LEASED PLOTS</td>\n",
       "      <td>134</td>\n",
       "      <td>CITY STATION</td>\n",
       "      <td>3</td>\n",
       "      <td>5</td>\n",
       "      <td>0</td>\n",
       "      <td>N</td>\n",
       "      <td>1</td>\n",
       "      <td>1</td>\n",
       "      <td>2</td>\n",
       "      <td>4</td>\n",
       "    </tr>\n",
       "  </tbody>\n",
       "</table>\n",
       "</div>"
      ],
      "text/plain": [
       "           POP_CODE             POP_NAME  ORDER_STATUS  DOC_DATE_YEAR  \\\n",
       "120654  27005005064  WAQAR GENERAL STORE             0           2017   \n",
       "120655  27005005064  WAQAR GENERAL STORE             1           2017   \n",
       "120656  27005005064  WAQAR GENERAL STORE             0           2017   \n",
       "120657  27005005064  WAQAR GENERAL STORE             0           2017   \n",
       "120658  27005005064  WAQAR GENERAL STORE             1           2017   \n",
       "\n",
       "        DOC_DATE_QUARTER_YR  DOC_DATE_MONTH_YR  DOC_DATE_DAYS_MNTH  \\\n",
       "120654                    3                  9                  30   \n",
       "120655                    3                  9                  30   \n",
       "120656                    3                  9                  30   \n",
       "120657                    3                  9                  30   \n",
       "120658                    4                 10                  31   \n",
       "\n",
       "        DOC_DATE_WEEK_MNTH  DOC_DATE_WEEK_YR  TOWN_CODE TOWN_NAME  \\\n",
       "120654                   1                36         27    SADDAR   \n",
       "120655                   2                37         27    SADDAR   \n",
       "120656                   4                38         27    SADDAR   \n",
       "120657                   4                39         27    SADDAR   \n",
       "120658                   1                40         27    SADDAR   \n",
       "\n",
       "        LOCALITY_CODE LOCALITY_NAME  SLOCALITY_CODE  SLOCALITY_NAME  \\\n",
       "120654             34    SULTANABAD             100  RAILWAY COLONY   \n",
       "120655             34    SULTANABAD             100  RAILWAY COLONY   \n",
       "120656             34    SULTANABAD             100  RAILWAY COLONY   \n",
       "120657             34    SULTANABAD             100  RAILWAY COLONY   \n",
       "120658             34    SULTANABAD             100  RAILWAY COLONY   \n",
       "\n",
       "        POS_TYPE_CODE  POS_TYPE_NAME  MARKET_CODE  \\\n",
       "120654              4  General Store         1631   \n",
       "120655              4  General Store         1631   \n",
       "120656              4  General Store         1631   \n",
       "120657              4  General Store         1631   \n",
       "120658              4  General Store         1631   \n",
       "\n",
       "                           MARKET_NAME  STREET_CODE   STREET_NAME  \\\n",
       "120654  RAILWAY COLONY UN LEASED PLOTS          134  CITY STATION   \n",
       "120655  RAILWAY COLONY UN LEASED PLOTS          134  CITY STATION   \n",
       "120656  RAILWAY COLONY UN LEASED PLOTS          134  CITY STATION   \n",
       "120657  RAILWAY COLONY UN LEASED PLOTS          134  CITY STATION   \n",
       "120658  RAILWAY COLONY UN LEASED PLOTS          134  CITY STATION   \n",
       "\n",
       "        COMPANY_RANK  RANK  RURAL_CODE RURAL_BOOL  CHANNEL_CODE  \\\n",
       "120654             3     5           0          N             1   \n",
       "120655             3     5           0          N             1   \n",
       "120656             3     5           0          N             1   \n",
       "120657             3     5           0          N             1   \n",
       "120658             3     5           0          N             1   \n",
       "\n",
       "        SUB_CHANNEL_CODE  ELEMENT_CODE  SUB_ELEMENT_CODE  \n",
       "120654                 1             2                 4  \n",
       "120655                 1             2                 4  \n",
       "120656                 1             2                 4  \n",
       "120657                 1             2                 4  \n",
       "120658                 1             2                 4  "
      ]
     },
     "execution_count": 7,
     "metadata": {},
     "output_type": "execute_result"
    }
   ],
   "source": [
    "df.tail()"
   ]
  },
  {
   "cell_type": "code",
   "execution_count": 15,
   "metadata": {},
   "outputs": [],
   "source": [
    "df_numeric = df._get_numeric_data()"
   ]
  },
  {
   "cell_type": "code",
   "execution_count": 18,
   "metadata": {},
   "outputs": [
    {
     "data": {
      "text/html": [
       "<div>\n",
       "<style>\n",
       "    .dataframe thead tr:only-child th {\n",
       "        text-align: right;\n",
       "    }\n",
       "\n",
       "    .dataframe thead th {\n",
       "        text-align: left;\n",
       "    }\n",
       "\n",
       "    .dataframe tbody tr th {\n",
       "        vertical-align: top;\n",
       "    }\n",
       "</style>\n",
       "<table border=\"1\" class=\"dataframe\">\n",
       "  <thead>\n",
       "    <tr style=\"text-align: right;\">\n",
       "      <th></th>\n",
       "      <th>POP_CODE</th>\n",
       "      <th>ORDER_STATUS</th>\n",
       "      <th>DOC_DATE_YEAR</th>\n",
       "      <th>DOC_DATE_QUARTER_YR</th>\n",
       "      <th>DOC_DATE_MONTH_YR</th>\n",
       "      <th>DOC_DATE_DAYS_MNTH</th>\n",
       "      <th>DOC_DATE_WEEK_MNTH</th>\n",
       "      <th>DOC_DATE_WEEK_YR</th>\n",
       "      <th>TOWN_CODE</th>\n",
       "      <th>LOCALITY_CODE</th>\n",
       "      <th>SLOCALITY_CODE</th>\n",
       "      <th>POS_TYPE_CODE</th>\n",
       "      <th>MARKET_CODE</th>\n",
       "      <th>STREET_CODE</th>\n",
       "      <th>COMPANY_RANK</th>\n",
       "      <th>RANK</th>\n",
       "      <th>RURAL_CODE</th>\n",
       "      <th>CHANNEL_CODE</th>\n",
       "      <th>SUB_CHANNEL_CODE</th>\n",
       "      <th>ELEMENT_CODE</th>\n",
       "      <th>SUB_ELEMENT_CODE</th>\n",
       "    </tr>\n",
       "  </thead>\n",
       "  <tbody>\n",
       "    <tr>\n",
       "      <th>0</th>\n",
       "      <td>9001001003</td>\n",
       "      <td>0</td>\n",
       "      <td>2014</td>\n",
       "      <td>1</td>\n",
       "      <td>2</td>\n",
       "      <td>28</td>\n",
       "      <td>4</td>\n",
       "      <td>8</td>\n",
       "      <td>9</td>\n",
       "      <td>3</td>\n",
       "      <td>20</td>\n",
       "      <td>7</td>\n",
       "      <td>622</td>\n",
       "      <td>322</td>\n",
       "      <td>3</td>\n",
       "      <td>5</td>\n",
       "      <td>1</td>\n",
       "      <td>1</td>\n",
       "      <td>1</td>\n",
       "      <td>3</td>\n",
       "      <td>7</td>\n",
       "    </tr>\n",
       "    <tr>\n",
       "      <th>1</th>\n",
       "      <td>9001001003</td>\n",
       "      <td>0</td>\n",
       "      <td>2014</td>\n",
       "      <td>1</td>\n",
       "      <td>3</td>\n",
       "      <td>31</td>\n",
       "      <td>1</td>\n",
       "      <td>10</td>\n",
       "      <td>9</td>\n",
       "      <td>3</td>\n",
       "      <td>20</td>\n",
       "      <td>7</td>\n",
       "      <td>622</td>\n",
       "      <td>322</td>\n",
       "      <td>3</td>\n",
       "      <td>5</td>\n",
       "      <td>1</td>\n",
       "      <td>1</td>\n",
       "      <td>1</td>\n",
       "      <td>3</td>\n",
       "      <td>7</td>\n",
       "    </tr>\n",
       "    <tr>\n",
       "      <th>2</th>\n",
       "      <td>9001001003</td>\n",
       "      <td>1</td>\n",
       "      <td>2014</td>\n",
       "      <td>1</td>\n",
       "      <td>3</td>\n",
       "      <td>31</td>\n",
       "      <td>2</td>\n",
       "      <td>11</td>\n",
       "      <td>9</td>\n",
       "      <td>3</td>\n",
       "      <td>20</td>\n",
       "      <td>7</td>\n",
       "      <td>622</td>\n",
       "      <td>322</td>\n",
       "      <td>3</td>\n",
       "      <td>5</td>\n",
       "      <td>1</td>\n",
       "      <td>1</td>\n",
       "      <td>1</td>\n",
       "      <td>3</td>\n",
       "      <td>7</td>\n",
       "    </tr>\n",
       "    <tr>\n",
       "      <th>3</th>\n",
       "      <td>9001001003</td>\n",
       "      <td>1</td>\n",
       "      <td>2014</td>\n",
       "      <td>1</td>\n",
       "      <td>3</td>\n",
       "      <td>31</td>\n",
       "      <td>3</td>\n",
       "      <td>12</td>\n",
       "      <td>9</td>\n",
       "      <td>3</td>\n",
       "      <td>20</td>\n",
       "      <td>7</td>\n",
       "      <td>622</td>\n",
       "      <td>322</td>\n",
       "      <td>3</td>\n",
       "      <td>5</td>\n",
       "      <td>1</td>\n",
       "      <td>1</td>\n",
       "      <td>1</td>\n",
       "      <td>3</td>\n",
       "      <td>7</td>\n",
       "    </tr>\n",
       "    <tr>\n",
       "      <th>4</th>\n",
       "      <td>9001001003</td>\n",
       "      <td>0</td>\n",
       "      <td>2014</td>\n",
       "      <td>1</td>\n",
       "      <td>3</td>\n",
       "      <td>31</td>\n",
       "      <td>4</td>\n",
       "      <td>13</td>\n",
       "      <td>9</td>\n",
       "      <td>3</td>\n",
       "      <td>20</td>\n",
       "      <td>7</td>\n",
       "      <td>622</td>\n",
       "      <td>322</td>\n",
       "      <td>3</td>\n",
       "      <td>5</td>\n",
       "      <td>1</td>\n",
       "      <td>1</td>\n",
       "      <td>1</td>\n",
       "      <td>3</td>\n",
       "      <td>7</td>\n",
       "    </tr>\n",
       "  </tbody>\n",
       "</table>\n",
       "</div>"
      ],
      "text/plain": [
       "     POP_CODE  ORDER_STATUS  DOC_DATE_YEAR  DOC_DATE_QUARTER_YR  \\\n",
       "0  9001001003             0           2014                    1   \n",
       "1  9001001003             0           2014                    1   \n",
       "2  9001001003             1           2014                    1   \n",
       "3  9001001003             1           2014                    1   \n",
       "4  9001001003             0           2014                    1   \n",
       "\n",
       "   DOC_DATE_MONTH_YR  DOC_DATE_DAYS_MNTH  DOC_DATE_WEEK_MNTH  \\\n",
       "0                  2                  28                   4   \n",
       "1                  3                  31                   1   \n",
       "2                  3                  31                   2   \n",
       "3                  3                  31                   3   \n",
       "4                  3                  31                   4   \n",
       "\n",
       "   DOC_DATE_WEEK_YR  TOWN_CODE  LOCALITY_CODE  SLOCALITY_CODE  POS_TYPE_CODE  \\\n",
       "0                 8          9              3              20              7   \n",
       "1                10          9              3              20              7   \n",
       "2                11          9              3              20              7   \n",
       "3                12          9              3              20              7   \n",
       "4                13          9              3              20              7   \n",
       "\n",
       "   MARKET_CODE  STREET_CODE  COMPANY_RANK  RANK  RURAL_CODE  CHANNEL_CODE  \\\n",
       "0          622          322             3     5           1             1   \n",
       "1          622          322             3     5           1             1   \n",
       "2          622          322             3     5           1             1   \n",
       "3          622          322             3     5           1             1   \n",
       "4          622          322             3     5           1             1   \n",
       "\n",
       "   SUB_CHANNEL_CODE  ELEMENT_CODE  SUB_ELEMENT_CODE  \n",
       "0                 1             3                 7  \n",
       "1                 1             3                 7  \n",
       "2                 1             3                 7  \n",
       "3                 1             3                 7  \n",
       "4                 1             3                 7  "
      ]
     },
     "execution_count": 18,
     "metadata": {},
     "output_type": "execute_result"
    }
   ],
   "source": [
    "df_numeric.head()"
   ]
  },
  {
   "cell_type": "code",
   "execution_count": 19,
   "metadata": {
    "collapsed": true
   },
   "outputs": [],
   "source": [
    "y = df_numeric.ORDER_STATUS # define the target variable (dependent variable) as y"
   ]
  },
  {
   "cell_type": "code",
   "execution_count": 57,
   "metadata": {},
   "outputs": [],
   "source": [
    "from sklearn.model_selection import train_test_split\n",
    "from sklearn import model_selection\n",
    "from sklearn.linear_model import LogisticRegression"
   ]
  },
  {
   "cell_type": "code",
   "execution_count": 86,
   "metadata": {},
   "outputs": [
    {
     "name": "stdout",
     "output_type": "stream",
     "text": [
      "(96527, 21) (96527,)\n",
      "(24132, 21) (24132,)\n"
     ]
    }
   ],
   "source": [
    "# create training and testing vars\n",
    "X_train, X_test, y_train, y_test = train_test_split(df_numeric, y, test_size=0.2)\n",
    "print(X_train.shape, y_train.shape)\n",
    "print(X_test.shape, y_test.shape)"
   ]
  },
  {
   "cell_type": "code",
   "execution_count": 70,
   "metadata": {},
   "outputs": [
    {
     "name": "stdout",
     "output_type": "stream",
     "text": [
      "Accuracy: 0.560 (0.005)\n"
     ]
    }
   ],
   "source": [
    "# Cross Validation Classification Accuracy\n",
    "kfold = model_selection.KFold(n_splits=10, random_state=0)\n",
    "model = LogisticRegression()\n",
    "scoring = 'accuracy'\n",
    "results = model_selection.cross_val_score(model, X_test, y_test, cv=kfold, scoring=scoring)\n",
    "print(\"Accuracy: %.3f (%.3f)\" % (results.mean(), results.std()))"
   ]
  },
  {
   "cell_type": "code",
   "execution_count": 73,
   "metadata": {},
   "outputs": [
    {
     "name": "stdout",
     "output_type": "stream",
     "text": [
      "Logloss: -0.682 (0.002)\n"
     ]
    }
   ],
   "source": [
    "# Cross Validation Classification LogLoss\n",
    "kfold = model_selection.KFold(n_splits=10, random_state=0)\n",
    "model = LogisticRegression()\n",
    "scoring = 'neg_log_loss'\n",
    "results = model_selection.cross_val_score(model, X_test, y_test, cv=kfold, scoring=scoring)\n",
    "print(\"Logloss: %.3f (%.3f)\" % (results.mean(), results.std()))"
   ]
  },
  {
   "cell_type": "code",
   "execution_count": 76,
   "metadata": {},
   "outputs": [
    {
     "name": "stdout",
     "output_type": "stream",
     "text": [
      "AUC: 0.553 (0.011)\n"
     ]
    }
   ],
   "source": [
    "# Cross Validation Classification ROC AUC\n",
    "kfold = model_selection.KFold(n_splits=10, random_state=0)\n",
    "model = LogisticRegression()\n",
    "scoring = 'roc_auc'\n",
    "results = model_selection.cross_val_score(model, X_test, y_test, cv=kfold, scoring=scoring)\n",
    "print(\"AUC: %.3f (%.3f)\" % (results.mean(), results.std()))"
   ]
  },
  {
   "cell_type": "code",
   "execution_count": 91,
   "metadata": {},
   "outputs": [
    {
     "name": "stdout",
     "output_type": "stream",
     "text": [
      "[[    0 10605]\n",
      " [    0 13527]]\n"
     ]
    }
   ],
   "source": [
    "# Cross Validation Classification Confusion Matrix\n",
    "from sklearn.metrics import confusion_matrix\n",
    "model = LogisticRegression()\n",
    "model.fit(X_train, y_train)\n",
    "predicted = model.predict(X_test)\n",
    "matrix = confusion_matrix(y_test, predicted)\n",
    "print(matrix)"
   ]
  },
  {
   "cell_type": "code",
   "execution_count": 95,
   "metadata": {},
   "outputs": [
    {
     "name": "stdout",
     "output_type": "stream",
     "text": [
      "             precision    recall  f1-score   support\n",
      "\n",
      "          0       0.00      0.00      0.00     10605\n",
      "          1       0.56      1.00      0.72     13527\n",
      "\n",
      "avg / total       0.31      0.56      0.40     24132\n",
      "\n"
     ]
    },
    {
     "name": "stderr",
     "output_type": "stream",
     "text": [
      "C:\\Users\\AFFAN\\Anaconda3\\lib\\site-packages\\sklearn\\metrics\\classification.py:1113: UndefinedMetricWarning: Precision and F-score are ill-defined and being set to 0.0 in labels with no predicted samples.\n",
      "  'precision', 'predicted', average, warn_for)\n"
     ]
    }
   ],
   "source": [
    "# Cross Validation Classification Report\n",
    "from sklearn.metrics import classification_report\n",
    "model = LogisticRegression()\n",
    "model.fit(X_train, y_train)\n",
    "predicted = model.predict(X_test)\n",
    "report = classification_report(y_test, predicted)\n",
    "print(report)"
   ]
  },
  {
   "cell_type": "code",
   "execution_count": 96,
   "metadata": {
    "collapsed": true
   },
   "outputs": [],
   "source": [
    "# Create the target and features numpy arrays: target, features_one\n",
    "target = X_test[\"ORDER_STATUS\"].values\n",
    "features_one = X_test[[\"DOC_DATE_WEEK_YR\", \"TOWN_CODE\", \"STREET_CODE\", \"MARKET_CODE\", \"POS_TYPE_CODE\"]].values"
   ]
  },
  {
   "cell_type": "code",
   "execution_count": 97,
   "metadata": {},
   "outputs": [],
   "source": [
    "# Fit your first decision tree: my_tree_one\n",
    "my_tree_one = tree.DecisionTreeClassifier()\n",
    "my_tree_one = my_tree_one.fit(features_one, target)"
   ]
  },
  {
   "cell_type": "code",
   "execution_count": 98,
   "metadata": {},
   "outputs": [
    {
     "name": "stdout",
     "output_type": "stream",
     "text": [
      "[ 0.51503578  0.03408629  0.16488046  0.23562116  0.05037631]\n",
      "0.901334327863\n"
     ]
    }
   ],
   "source": [
    "# Look at the importance and score of the included features\n",
    "print(my_tree_one.feature_importances_)\n",
    "print(my_tree_one.score(features_one, target))"
   ]
  },
  {
   "cell_type": "code",
   "execution_count": 99,
   "metadata": {
    "collapsed": true
   },
   "outputs": [],
   "source": [
    "# Create the target and features numpy arrays: target, features_one\n",
    "target = X_test[\"ORDER_STATUS\"].values\n",
    "features_one = X_test[[\"DOC_DATE_YEAR\", \"DOC_DATE_WEEK_YR\", \"TOWN_CODE\", \"LOCALITY_CODE\", \"SLOCALITY_CODE\", \"STREET_CODE\", \"MARKET_CODE\", \"POS_TYPE_CODE\", \"COMPANY_RANK\", \"RANK\", \"RURAL_CODE\", \"CHANNEL_CODE\", \"SUB_CHANNEL_CODE\", \"ELEMENT_CODE\", \"SUB_ELEMENT_CODE\"]].values"
   ]
  },
  {
   "cell_type": "code",
   "execution_count": 100,
   "metadata": {
    "collapsed": true
   },
   "outputs": [],
   "source": [
    "# Fit your first decision tree: my_tree_one\n",
    "my_tree_one = tree.DecisionTreeClassifier()\n",
    "my_tree_one = my_tree_one.fit(features_one, target)"
   ]
  },
  {
   "cell_type": "code",
   "execution_count": 101,
   "metadata": {},
   "outputs": [
    {
     "name": "stdout",
     "output_type": "stream",
     "text": [
      "[ 0.1106807   0.4590542   0.00509052  0.02810062  0.05199191  0.10520008\n",
      "  0.1702016   0.01450271  0.00127233  0.00324244  0.01607896  0.00307234\n",
      "  0.0050112   0.01292659  0.0135738 ]\n",
      "0.994281452014\n"
     ]
    }
   ],
   "source": [
    "# Look at the importance and score of the included features\n",
    "print(my_tree_one.feature_importances_)\n",
    "print(my_tree_one.score(features_one, target))"
   ]
  },
  {
   "cell_type": "code",
   "execution_count": 102,
   "metadata": {
    "collapsed": true
   },
   "outputs": [],
   "source": [
    "# Create a new array with the added features: features_two\n",
    "features_two = X_test[[\"DOC_DATE_WEEK_YR\", \"TOWN_CODE\", \"STREET_CODE\", \"MARKET_CODE\", \"POS_TYPE_CODE\"]].values"
   ]
  },
  {
   "cell_type": "code",
   "execution_count": 103,
   "metadata": {
    "collapsed": true
   },
   "outputs": [],
   "source": [
    "#Control overfitting by setting \"max_depth\" to 10 and \"min_samples_split\" to 5 : my_tree_two\n",
    "max_depth = 10 \n",
    "min_samples_split = 5\n",
    "my_tree_two = tree.DecisionTreeClassifier(max_depth = 10, min_samples_split = 5, random_state = 1)\n",
    "my_tree_two = my_tree_two.fit(features_two, target)"
   ]
  },
  {
   "cell_type": "code",
   "execution_count": 104,
   "metadata": {},
   "outputs": [
    {
     "name": "stdout",
     "output_type": "stream",
     "text": [
      "0.643336648434\n"
     ]
    }
   ],
   "source": [
    "#Print the score of the new decison tree\n",
    "print(my_tree_two.score(features_two, target))"
   ]
  },
  {
   "cell_type": "code",
   "execution_count": 105,
   "metadata": {
    "collapsed": true
   },
   "outputs": [],
   "source": [
    "# Create a new array with the added features: features_two\n",
    "features_two = X_test[[\"DOC_DATE_YEAR\", \"DOC_DATE_WEEK_YR\", \"TOWN_CODE\", \"LOCALITY_CODE\", \"SLOCALITY_CODE\", \"STREET_CODE\", \"MARKET_CODE\", \"POS_TYPE_CODE\", \"COMPANY_RANK\", \"RANK\", \"RURAL_CODE\", \"CHANNEL_CODE\", \"SUB_CHANNEL_CODE\", \"ELEMENT_CODE\", \"SUB_ELEMENT_CODE\"]].values"
   ]
  },
  {
   "cell_type": "code",
   "execution_count": 106,
   "metadata": {
    "collapsed": true
   },
   "outputs": [],
   "source": [
    "#Control overfitting by setting \"max_depth\" to 10 and \"min_samples_split\" to 5 : my_tree_two\n",
    "max_depth = 10 \n",
    "min_samples_split = 5\n",
    "my_tree_two = tree.DecisionTreeClassifier(max_depth = 10, min_samples_split = 5, random_state = 1)\n",
    "my_tree_two = my_tree_two.fit(features_two, target)"
   ]
  },
  {
   "cell_type": "code",
   "execution_count": 107,
   "metadata": {},
   "outputs": [
    {
     "name": "stdout",
     "output_type": "stream",
     "text": [
      "0.652909000497\n"
     ]
    }
   ],
   "source": [
    "#Print the score of the new decison tree\n",
    "print(my_tree_two.score(features_two, target))"
   ]
  },
  {
   "cell_type": "code",
   "execution_count": 108,
   "metadata": {
    "collapsed": true
   },
   "outputs": [],
   "source": [
    "# Import the `RandomForestClassifier`\n",
    "from sklearn.ensemble import RandomForestClassifier"
   ]
  },
  {
   "cell_type": "code",
   "execution_count": 109,
   "metadata": {
    "collapsed": true
   },
   "outputs": [],
   "source": [
    "features_forest = X_test[[\"DOC_DATE_WEEK_YR\", \"TOWN_CODE\", \"STREET_CODE\", \"MARKET_CODE\", \"POS_TYPE_CODE\"]].values"
   ]
  },
  {
   "cell_type": "code",
   "execution_count": 110,
   "metadata": {
    "collapsed": true
   },
   "outputs": [],
   "source": [
    "# Building and fitting my_forest\n",
    "forest = RandomForestClassifier(max_depth = 10, min_samples_split=2, n_estimators = 100, random_state = 1)\n",
    "my_forest = forest.fit(features_forest, target)"
   ]
  },
  {
   "cell_type": "code",
   "execution_count": 111,
   "metadata": {},
   "outputs": [
    {
     "name": "stdout",
     "output_type": "stream",
     "text": [
      "0.668780043096\n"
     ]
    }
   ],
   "source": [
    "# Print the score of the fitted random forest\n",
    "print(my_forest.score(features_forest, target))"
   ]
  },
  {
   "cell_type": "code",
   "execution_count": 112,
   "metadata": {},
   "outputs": [
    {
     "name": "stdout",
     "output_type": "stream",
     "text": [
      "24132\n"
     ]
    }
   ],
   "source": [
    "# Compute predictions on our test set features then print the length of the prediction vector\n",
    "test_features = X_test[[\"DOC_DATE_WEEK_YR\", \"TOWN_CODE\", \"STREET_CODE\", \"MARKET_CODE\", \"POS_TYPE_CODE\"]].values\n",
    "pred_forest = my_forest.predict(test_features)\n",
    "print(len(pred_forest))"
   ]
  },
  {
   "cell_type": "code",
   "execution_count": 113,
   "metadata": {
    "collapsed": true
   },
   "outputs": [],
   "source": [
    "features_forest = X_test[[\"DOC_DATE_YEAR\", \"DOC_DATE_WEEK_YR\", \"TOWN_CODE\", \"LOCALITY_CODE\", \"SLOCALITY_CODE\", \"STREET_CODE\", \"MARKET_CODE\", \"POS_TYPE_CODE\", \"COMPANY_RANK\", \"RANK\", \"RURAL_CODE\", \"CHANNEL_CODE\", \"SUB_CHANNEL_CODE\", \"ELEMENT_CODE\", \"SUB_ELEMENT_CODE\"]].values"
   ]
  },
  {
   "cell_type": "code",
   "execution_count": 114,
   "metadata": {
    "collapsed": true
   },
   "outputs": [],
   "source": [
    "# Building and fitting my_forest\n",
    "forest = RandomForestClassifier(max_depth = 10, min_samples_split=2, n_estimators = 100, random_state = 1)\n",
    "my_forest = forest.fit(features_forest, target)"
   ]
  },
  {
   "cell_type": "code",
   "execution_count": 115,
   "metadata": {},
   "outputs": [
    {
     "name": "stdout",
     "output_type": "stream",
     "text": [
      "0.676902038787\n"
     ]
    }
   ],
   "source": [
    "# Print the score of the fitted random forest\n",
    "print(my_forest.score(features_forest, target))"
   ]
  },
  {
   "cell_type": "code",
   "execution_count": 116,
   "metadata": {},
   "outputs": [
    {
     "name": "stdout",
     "output_type": "stream",
     "text": [
      "24132\n"
     ]
    }
   ],
   "source": [
    "# Compute predictions on our test set features then print the length of the prediction vector\n",
    "test_features = X_test[[\"DOC_DATE_YEAR\", \"DOC_DATE_WEEK_YR\", \"TOWN_CODE\", \"LOCALITY_CODE\", \"SLOCALITY_CODE\", \"STREET_CODE\", \"MARKET_CODE\", \"POS_TYPE_CODE\", \"COMPANY_RANK\", \"RANK\", \"RURAL_CODE\", \"CHANNEL_CODE\", \"SUB_CHANNEL_CODE\", \"ELEMENT_CODE\", \"SUB_ELEMENT_CODE\"]].values\n",
    "pred_forest = my_forest.predict(test_features)\n",
    "print(len(pred_forest))"
   ]
  },
  {
   "cell_type": "code",
   "execution_count": 117,
   "metadata": {},
   "outputs": [
    {
     "name": "stdout",
     "output_type": "stream",
     "text": [
      "[ 0.10004542  0.20529727  0.00924332  0.03005469  0.09115554  0.1198132\n",
      "  0.19386325  0.02892184  0.00257641  0.00536443  0.1128367   0.01176212\n",
      "  0.00619581  0.0251287   0.0577413 ]\n",
      "[ 0.11446034  0.21840601  0.05614343  0.04350716  0.09037956  0.11547378\n",
      "  0.1383302   0.04959013  0.00703495  0.00802552  0.04974019  0.00752474\n",
      "  0.01889692  0.03200331  0.05048376]\n"
     ]
    }
   ],
   "source": [
    "#Request and print the `.feature_importances_` attribute\n",
    "print(my_tree_two.feature_importances_)\n",
    "print(my_forest.feature_importances_)"
   ]
  },
  {
   "cell_type": "code",
   "execution_count": 118,
   "metadata": {},
   "outputs": [
    {
     "name": "stdout",
     "output_type": "stream",
     "text": [
      "0.652909000497\n",
      "0.676902038787\n"
     ]
    }
   ],
   "source": [
    "#Compute and print the mean accuracy score for both models\n",
    "print(my_tree_two.score(features_two, target))\n",
    "print(my_forest.score(features_two, target))"
   ]
  },
  {
   "cell_type": "code",
   "execution_count": null,
   "metadata": {
    "collapsed": true
   },
   "outputs": [],
   "source": []
  }
 ],
 "metadata": {
  "kernelspec": {
   "display_name": "Python 3",
   "language": "python",
   "name": "python3"
  },
  "language_info": {
   "codemirror_mode": {
    "name": "ipython",
    "version": 3
   },
   "file_extension": ".py",
   "mimetype": "text/x-python",
   "name": "python",
   "nbconvert_exporter": "python",
   "pygments_lexer": "ipython3",
   "version": "3.6.1"
  }
 },
 "nbformat": 4,
 "nbformat_minor": 2
}
