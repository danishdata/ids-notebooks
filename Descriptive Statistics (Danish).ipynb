{
 "cells": [
  {
   "cell_type": "markdown",
   "metadata": {},
   "source": [
    "### To do\n",
    "* Make a geography hierarchy representation\n",
    "* Delete recodes and make new ones\n",
    "* Delete PJP and DSR variables\n",
    "* Delete OWNER_NAME and GPS_COORDINATES variables\n",
    "* Correct value assignment w.r.t. POP Name\n",
    "* Date has to be splited into its intermediary components\n",
    "* Remove 0 and 999 from HHT_SRNO\n",
    "* Can we get the names and/or names of USER_ENTRY\n",
    "* What do 1 and 2 represent in PAYMENT_MODE?\n",
    "* Why abnormal ranking in RANK and COMPANY_RANK?\n",
    "* Remove inactive POPs\n",
    "POS Active '1' or Inactive '0' for business. What is meant by POS Active?\n",
    "* What does 1 and 2 mean in AREATYPE?\n",
    "1 means rural and 2 means urban\n",
    "* What does SHOPPER_TYPE RG, L1 and 01 mean?\n",
    "* What does GEOCODE 1 and 3 refer to?\n",
    "* Add names to ids of ELEMENT, SUB_ELEMENT, CHANNEL, AND SUB_CHANNEL"
   ]
  },
  {
   "cell_type": "code",
   "execution_count": 1,
   "metadata": {
    "collapsed": true
   },
   "outputs": [],
   "source": [
    "import os\n",
    "import pandas as pd"
   ]
  },
  {
   "cell_type": "code",
   "execution_count": 2,
   "metadata": {
    "collapsed": false
   },
   "outputs": [],
   "source": [
    "BASE_DIR = os.getcwd()\n",
    "file_path = '%s/../Data.csv'%BASE_DIR"
   ]
  },
  {
   "cell_type": "code",
   "execution_count": 3,
   "metadata": {
    "collapsed": false
   },
   "outputs": [],
   "source": [
    "df = pd.read_csv(file_path, encoding=\"latin-1\")"
   ]
  },
  {
   "cell_type": "code",
   "execution_count": 4,
   "metadata": {
    "collapsed": false
   },
   "outputs": [
    {
     "data": {
      "text/html": [
       "<div>\n",
       "<table border=\"1\" class=\"dataframe\">\n",
       "  <thead>\n",
       "    <tr style=\"text-align: right;\">\n",
       "      <th></th>\n",
       "      <th>LOCALITY</th>\n",
       "      <th>SLOCALITY</th>\n",
       "      <th>SECTION</th>\n",
       "      <th>POS_TYPE_CODE</th>\n",
       "      <th>DOC_NO</th>\n",
       "      <th>ORDER_STATUS</th>\n",
       "      <th>PJP</th>\n",
       "      <th>REF_PJP</th>\n",
       "      <th>DSR</th>\n",
       "      <th>REF_DSR</th>\n",
       "      <th>...</th>\n",
       "      <th>PAYMENT_MODE</th>\n",
       "      <th>COMPANY_RANK</th>\n",
       "      <th>RANK</th>\n",
       "      <th>ACTIVE</th>\n",
       "      <th>AREATYPE</th>\n",
       "      <th>GEOCODE</th>\n",
       "      <th>SUB_ELEMENT</th>\n",
       "      <th>CHANNEL</th>\n",
       "      <th>SUB_CHANNEL</th>\n",
       "      <th>ELEMENT</th>\n",
       "    </tr>\n",
       "  </thead>\n",
       "  <tbody>\n",
       "    <tr>\n",
       "      <th>count</th>\n",
       "      <td>355178.000000</td>\n",
       "      <td>355178.000000</td>\n",
       "      <td>355178.000000</td>\n",
       "      <td>355178.000000</td>\n",
       "      <td>3.551780e+05</td>\n",
       "      <td>355178.000000</td>\n",
       "      <td>355178.000000</td>\n",
       "      <td>355177.000000</td>\n",
       "      <td>355178.000000</td>\n",
       "      <td>355177.000000</td>\n",
       "      <td>...</td>\n",
       "      <td>354664.000000</td>\n",
       "      <td>355178.000000</td>\n",
       "      <td>355178.000000</td>\n",
       "      <td>355178.000000</td>\n",
       "      <td>355178.000000</td>\n",
       "      <td>355178.000000</td>\n",
       "      <td>355178.000000</td>\n",
       "      <td>355178.000000</td>\n",
       "      <td>355178.000000</td>\n",
       "      <td>355178.000000</td>\n",
       "    </tr>\n",
       "    <tr>\n",
       "      <th>mean</th>\n",
       "      <td>2.869820</td>\n",
       "      <td>2.115193</td>\n",
       "      <td>25.587900</td>\n",
       "      <td>5.513168</td>\n",
       "      <td>1.516422e+11</td>\n",
       "      <td>0.442381</td>\n",
       "      <td>9.341829</td>\n",
       "      <td>1125.131388</td>\n",
       "      <td>9.358080</td>\n",
       "      <td>105.492898</td>\n",
       "      <td>...</td>\n",
       "      <td>1.050972</td>\n",
       "      <td>1.462585</td>\n",
       "      <td>3.115981</td>\n",
       "      <td>0.744908</td>\n",
       "      <td>1.999665</td>\n",
       "      <td>1.518974</td>\n",
       "      <td>5.513168</td>\n",
       "      <td>1.040979</td>\n",
       "      <td>1.427304</td>\n",
       "      <td>2.320544</td>\n",
       "    </tr>\n",
       "    <tr>\n",
       "      <th>std</th>\n",
       "      <td>1.442698</td>\n",
       "      <td>1.157632</td>\n",
       "      <td>16.175905</td>\n",
       "      <td>3.328402</td>\n",
       "      <td>1.366982e+10</td>\n",
       "      <td>0.496670</td>\n",
       "      <td>9.023358</td>\n",
       "      <td>323.627075</td>\n",
       "      <td>6.936887</td>\n",
       "      <td>4.926169</td>\n",
       "      <td>...</td>\n",
       "      <td>0.219941</td>\n",
       "      <td>2.977828</td>\n",
       "      <td>0.413137</td>\n",
       "      <td>0.435913</td>\n",
       "      <td>0.018301</td>\n",
       "      <td>0.876707</td>\n",
       "      <td>3.328402</td>\n",
       "      <td>0.216452</td>\n",
       "      <td>1.020330</td>\n",
       "      <td>0.852102</td>\n",
       "    </tr>\n",
       "    <tr>\n",
       "      <th>min</th>\n",
       "      <td>1.000000</td>\n",
       "      <td>1.000000</td>\n",
       "      <td>1.000000</td>\n",
       "      <td>1.000000</td>\n",
       "      <td>1.000091e+06</td>\n",
       "      <td>0.000000</td>\n",
       "      <td>1.000000</td>\n",
       "      <td>1.000000</td>\n",
       "      <td>1.000000</td>\n",
       "      <td>1.000000</td>\n",
       "      <td>...</td>\n",
       "      <td>1.000000</td>\n",
       "      <td>1.000000</td>\n",
       "      <td>3.000000</td>\n",
       "      <td>0.000000</td>\n",
       "      <td>1.000000</td>\n",
       "      <td>1.000000</td>\n",
       "      <td>1.000000</td>\n",
       "      <td>1.000000</td>\n",
       "      <td>1.000000</td>\n",
       "      <td>1.000000</td>\n",
       "    </tr>\n",
       "    <tr>\n",
       "      <th>25%</th>\n",
       "      <td>2.000000</td>\n",
       "      <td>1.000000</td>\n",
       "      <td>10.000000</td>\n",
       "      <td>4.000000</td>\n",
       "      <td>1.400120e+11</td>\n",
       "      <td>0.000000</td>\n",
       "      <td>2.000000</td>\n",
       "      <td>1002.000000</td>\n",
       "      <td>2.000000</td>\n",
       "      <td>102.000000</td>\n",
       "      <td>...</td>\n",
       "      <td>1.000000</td>\n",
       "      <td>1.000000</td>\n",
       "      <td>3.000000</td>\n",
       "      <td>0.000000</td>\n",
       "      <td>2.000000</td>\n",
       "      <td>1.000000</td>\n",
       "      <td>4.000000</td>\n",
       "      <td>1.000000</td>\n",
       "      <td>1.000000</td>\n",
       "      <td>2.000000</td>\n",
       "    </tr>\n",
       "    <tr>\n",
       "      <th>50%</th>\n",
       "      <td>3.000000</td>\n",
       "      <td>2.000000</td>\n",
       "      <td>30.000000</td>\n",
       "      <td>4.000000</td>\n",
       "      <td>1.500121e+11</td>\n",
       "      <td>0.000000</td>\n",
       "      <td>11.000000</td>\n",
       "      <td>1005.000000</td>\n",
       "      <td>11.000000</td>\n",
       "      <td>104.000000</td>\n",
       "      <td>...</td>\n",
       "      <td>1.000000</td>\n",
       "      <td>1.000000</td>\n",
       "      <td>3.000000</td>\n",
       "      <td>1.000000</td>\n",
       "      <td>2.000000</td>\n",
       "      <td>1.000000</td>\n",
       "      <td>4.000000</td>\n",
       "      <td>1.000000</td>\n",
       "      <td>1.000000</td>\n",
       "      <td>2.000000</td>\n",
       "    </tr>\n",
       "    <tr>\n",
       "      <th>75%</th>\n",
       "      <td>4.000000</td>\n",
       "      <td>3.000000</td>\n",
       "      <td>41.000000</td>\n",
       "      <td>7.000000</td>\n",
       "      <td>1.600181e+11</td>\n",
       "      <td>1.000000</td>\n",
       "      <td>13.000000</td>\n",
       "      <td>1013.000000</td>\n",
       "      <td>13.000000</td>\n",
       "      <td>106.000000</td>\n",
       "      <td>...</td>\n",
       "      <td>1.000000</td>\n",
       "      <td>1.000000</td>\n",
       "      <td>3.000000</td>\n",
       "      <td>1.000000</td>\n",
       "      <td>2.000000</td>\n",
       "      <td>3.000000</td>\n",
       "      <td>7.000000</td>\n",
       "      <td>1.000000</td>\n",
       "      <td>1.000000</td>\n",
       "      <td>3.000000</td>\n",
       "    </tr>\n",
       "    <tr>\n",
       "      <th>max</th>\n",
       "      <td>8.000000</td>\n",
       "      <td>7.000000</td>\n",
       "      <td>54.000000</td>\n",
       "      <td>20.000000</td>\n",
       "      <td>1.720010e+11</td>\n",
       "      <td>1.000000</td>\n",
       "      <td>2001.000000</td>\n",
       "      <td>2007.000000</td>\n",
       "      <td>26.000000</td>\n",
       "      <td>121.000000</td>\n",
       "      <td>...</td>\n",
       "      <td>2.000000</td>\n",
       "      <td>21.000000</td>\n",
       "      <td>7.000000</td>\n",
       "      <td>1.000000</td>\n",
       "      <td>2.000000</td>\n",
       "      <td>3.000000</td>\n",
       "      <td>20.000000</td>\n",
       "      <td>3.000000</td>\n",
       "      <td>4.000000</td>\n",
       "      <td>5.000000</td>\n",
       "    </tr>\n",
       "  </tbody>\n",
       "</table>\n",
       "<p>8 rows × 21 columns</p>\n",
       "</div>"
      ],
      "text/plain": [
       "            LOCALITY      SLOCALITY        SECTION  POS_TYPE_CODE  \\\n",
       "count  355178.000000  355178.000000  355178.000000  355178.000000   \n",
       "mean        2.869820       2.115193      25.587900       5.513168   \n",
       "std         1.442698       1.157632      16.175905       3.328402   \n",
       "min         1.000000       1.000000       1.000000       1.000000   \n",
       "25%         2.000000       1.000000      10.000000       4.000000   \n",
       "50%         3.000000       2.000000      30.000000       4.000000   \n",
       "75%         4.000000       3.000000      41.000000       7.000000   \n",
       "max         8.000000       7.000000      54.000000      20.000000   \n",
       "\n",
       "             DOC_NO   ORDER_STATUS            PJP        REF_PJP  \\\n",
       "count  3.551780e+05  355178.000000  355178.000000  355177.000000   \n",
       "mean   1.516422e+11       0.442381       9.341829    1125.131388   \n",
       "std    1.366982e+10       0.496670       9.023358     323.627075   \n",
       "min    1.000091e+06       0.000000       1.000000       1.000000   \n",
       "25%    1.400120e+11       0.000000       2.000000    1002.000000   \n",
       "50%    1.500121e+11       0.000000      11.000000    1005.000000   \n",
       "75%    1.600181e+11       1.000000      13.000000    1013.000000   \n",
       "max    1.720010e+11       1.000000    2001.000000    2007.000000   \n",
       "\n",
       "                 DSR        REF_DSR      ...         PAYMENT_MODE  \\\n",
       "count  355178.000000  355177.000000      ...        354664.000000   \n",
       "mean        9.358080     105.492898      ...             1.050972   \n",
       "std         6.936887       4.926169      ...             0.219941   \n",
       "min         1.000000       1.000000      ...             1.000000   \n",
       "25%         2.000000     102.000000      ...             1.000000   \n",
       "50%        11.000000     104.000000      ...             1.000000   \n",
       "75%        13.000000     106.000000      ...             1.000000   \n",
       "max        26.000000     121.000000      ...             2.000000   \n",
       "\n",
       "        COMPANY_RANK           RANK         ACTIVE       AREATYPE  \\\n",
       "count  355178.000000  355178.000000  355178.000000  355178.000000   \n",
       "mean        1.462585       3.115981       0.744908       1.999665   \n",
       "std         2.977828       0.413137       0.435913       0.018301   \n",
       "min         1.000000       3.000000       0.000000       1.000000   \n",
       "25%         1.000000       3.000000       0.000000       2.000000   \n",
       "50%         1.000000       3.000000       1.000000       2.000000   \n",
       "75%         1.000000       3.000000       1.000000       2.000000   \n",
       "max        21.000000       7.000000       1.000000       2.000000   \n",
       "\n",
       "             GEOCODE    SUB_ELEMENT        CHANNEL    SUB_CHANNEL  \\\n",
       "count  355178.000000  355178.000000  355178.000000  355178.000000   \n",
       "mean        1.518974       5.513168       1.040979       1.427304   \n",
       "std         0.876707       3.328402       0.216452       1.020330   \n",
       "min         1.000000       1.000000       1.000000       1.000000   \n",
       "25%         1.000000       4.000000       1.000000       1.000000   \n",
       "50%         1.000000       4.000000       1.000000       1.000000   \n",
       "75%         3.000000       7.000000       1.000000       1.000000   \n",
       "max         3.000000      20.000000       3.000000       4.000000   \n",
       "\n",
       "             ELEMENT  \n",
       "count  355178.000000  \n",
       "mean        2.320544  \n",
       "std         0.852102  \n",
       "min         1.000000  \n",
       "25%         2.000000  \n",
       "50%         2.000000  \n",
       "75%         3.000000  \n",
       "max         5.000000  \n",
       "\n",
       "[8 rows x 21 columns]"
      ]
     },
     "execution_count": 4,
     "metadata": {},
     "output_type": "execute_result"
    }
   ],
   "source": [
    "df.describe()"
   ]
  },
  {
   "cell_type": "code",
   "execution_count": 5,
   "metadata": {
    "collapsed": false
   },
   "outputs": [
    {
     "data": {
      "text/html": [
       "<div>\n",
       "<table border=\"1\" class=\"dataframe\">\n",
       "  <thead>\n",
       "    <tr style=\"text-align: right;\">\n",
       "      <th></th>\n",
       "      <th>TOWN</th>\n",
       "      <th>TOWN_DESC</th>\n",
       "      <th>LOCALITY</th>\n",
       "      <th>LOCALITY_DESC</th>\n",
       "      <th>SLOCALITY</th>\n",
       "      <th>SLOCALITY_DESC</th>\n",
       "      <th>POP_CODE</th>\n",
       "      <th>POP_NAME</th>\n",
       "      <th>SECTION</th>\n",
       "      <th>SECTION_DESC</th>\n",
       "      <th>...</th>\n",
       "      <th>AREATYPE</th>\n",
       "      <th>SHOPPER_TYPE</th>\n",
       "      <th>OWNER_NAME</th>\n",
       "      <th>GPS_COORDINATES</th>\n",
       "      <th>GEOCODE</th>\n",
       "      <th>RURAL</th>\n",
       "      <th>SUB_ELEMENT</th>\n",
       "      <th>CHANNEL</th>\n",
       "      <th>SUB_CHANNEL</th>\n",
       "      <th>ELEMENT</th>\n",
       "    </tr>\n",
       "  </thead>\n",
       "  <tbody>\n",
       "    <tr>\n",
       "      <th>0</th>\n",
       "      <td>T00026</td>\n",
       "      <td>PIB COLONY</td>\n",
       "      <td>1</td>\n",
       "      <td>JAMSHEED ROAD</td>\n",
       "      <td>4</td>\n",
       "      <td>MARTIN QUARTER</td>\n",
       "      <td>T00026001004014</td>\n",
       "      <td>AL MACCA BAKERY</td>\n",
       "      <td>1</td>\n",
       "      <td>MARTIN QUARTER</td>\n",
       "      <td>...</td>\n",
       "      <td>2</td>\n",
       "      <td>RG</td>\n",
       "      <td>-</td>\n",
       "      <td>24.88901459,67.04905551</td>\n",
       "      <td>1</td>\n",
       "      <td>N</td>\n",
       "      <td>1</td>\n",
       "      <td>1</td>\n",
       "      <td>1</td>\n",
       "      <td>4</td>\n",
       "    </tr>\n",
       "    <tr>\n",
       "      <th>1</th>\n",
       "      <td>T00026</td>\n",
       "      <td>PIB COLONY</td>\n",
       "      <td>1</td>\n",
       "      <td>JAMSHEED ROAD</td>\n",
       "      <td>4</td>\n",
       "      <td>MARTIN QUARTER</td>\n",
       "      <td>T00026001004129</td>\n",
       "      <td>MUSHTAQ BAKERY</td>\n",
       "      <td>1</td>\n",
       "      <td>MARTIN QUARTER</td>\n",
       "      <td>...</td>\n",
       "      <td>2</td>\n",
       "      <td>RG</td>\n",
       "      <td>AHSAN JAMEEL</td>\n",
       "      <td>24.89015118,67.04589786</td>\n",
       "      <td>1</td>\n",
       "      <td>N</td>\n",
       "      <td>1</td>\n",
       "      <td>1</td>\n",
       "      <td>1</td>\n",
       "      <td>4</td>\n",
       "    </tr>\n",
       "    <tr>\n",
       "      <th>2</th>\n",
       "      <td>T00027</td>\n",
       "      <td>SADDAR</td>\n",
       "      <td>2</td>\n",
       "      <td>BOHRI BAZAR</td>\n",
       "      <td>3</td>\n",
       "      <td>PRESS CLUB</td>\n",
       "      <td>T00027002003092</td>\n",
       "      <td>ABBAS BROTHERS BAKERY &amp; CONFECTIONERY (S</td>\n",
       "      <td>9</td>\n",
       "      <td>SADDAR</td>\n",
       "      <td>...</td>\n",
       "      <td>2</td>\n",
       "      <td>01</td>\n",
       "      <td>-</td>\n",
       "      <td>24.86038398,67.02951905</td>\n",
       "      <td>1</td>\n",
       "      <td>N</td>\n",
       "      <td>1</td>\n",
       "      <td>1</td>\n",
       "      <td>1</td>\n",
       "      <td>4</td>\n",
       "    </tr>\n",
       "    <tr>\n",
       "      <th>3</th>\n",
       "      <td>T00009</td>\n",
       "      <td>SOCIETY</td>\n",
       "      <td>1</td>\n",
       "      <td>BAHADURABAD</td>\n",
       "      <td>1</td>\n",
       "      <td>CHOTTI MARKET</td>\n",
       "      <td>T00009001001010</td>\n",
       "      <td>FAREED'S BAKERY</td>\n",
       "      <td>16</td>\n",
       "      <td>BAHADURABAD</td>\n",
       "      <td>...</td>\n",
       "      <td>2</td>\n",
       "      <td>RG</td>\n",
       "      <td>SHAFIQ</td>\n",
       "      <td>24.88451887,67.06439404</td>\n",
       "      <td>3</td>\n",
       "      <td>Y</td>\n",
       "      <td>1</td>\n",
       "      <td>1</td>\n",
       "      <td>1</td>\n",
       "      <td>4</td>\n",
       "    </tr>\n",
       "    <tr>\n",
       "      <th>4</th>\n",
       "      <td>T00009</td>\n",
       "      <td>SOCIETY</td>\n",
       "      <td>1</td>\n",
       "      <td>BAHADURABAD</td>\n",
       "      <td>3</td>\n",
       "      <td>SHARIFABAD</td>\n",
       "      <td>T00009001003015</td>\n",
       "      <td>CRESENT NIMCO</td>\n",
       "      <td>16</td>\n",
       "      <td>BAHADURABAD</td>\n",
       "      <td>...</td>\n",
       "      <td>2</td>\n",
       "      <td>RG</td>\n",
       "      <td>ABDUL QADIR</td>\n",
       "      <td>24.88241835,67.06616701</td>\n",
       "      <td>3</td>\n",
       "      <td>Y</td>\n",
       "      <td>1</td>\n",
       "      <td>1</td>\n",
       "      <td>1</td>\n",
       "      <td>4</td>\n",
       "    </tr>\n",
       "  </tbody>\n",
       "</table>\n",
       "<p>5 rows × 37 columns</p>\n",
       "</div>"
      ],
      "text/plain": [
       "     TOWN   TOWN_DESC  LOCALITY  LOCALITY_DESC  SLOCALITY  SLOCALITY_DESC  \\\n",
       "0  T00026  PIB COLONY         1  JAMSHEED ROAD          4  MARTIN QUARTER   \n",
       "1  T00026  PIB COLONY         1  JAMSHEED ROAD          4  MARTIN QUARTER   \n",
       "2  T00027      SADDAR         2    BOHRI BAZAR          3      PRESS CLUB   \n",
       "3  T00009     SOCIETY         1    BAHADURABAD          1   CHOTTI MARKET   \n",
       "4  T00009     SOCIETY         1    BAHADURABAD          3      SHARIFABAD   \n",
       "\n",
       "          POP_CODE                                  POP_NAME  SECTION  \\\n",
       "0  T00026001004014                           AL MACCA BAKERY        1   \n",
       "1  T00026001004129                            MUSHTAQ BAKERY        1   \n",
       "2  T00027002003092  ABBAS BROTHERS BAKERY & CONFECTIONERY (S        9   \n",
       "3  T00009001001010                           FAREED'S BAKERY       16   \n",
       "4  T00009001003015                             CRESENT NIMCO       16   \n",
       "\n",
       "     SECTION_DESC   ...     AREATYPE SHOPPER_TYPE    OWNER_NAME  \\\n",
       "0  MARTIN QUARTER   ...            2           RG             -   \n",
       "1  MARTIN QUARTER   ...            2           RG  AHSAN JAMEEL   \n",
       "2          SADDAR   ...            2           01             -   \n",
       "3     BAHADURABAD   ...            2           RG        SHAFIQ   \n",
       "4     BAHADURABAD   ...            2           RG   ABDUL QADIR   \n",
       "\n",
       "           GPS_COORDINATES  GEOCODE  RURAL  SUB_ELEMENT  CHANNEL  SUB_CHANNEL  \\\n",
       "0  24.88901459,67.04905551        1      N            1        1            1   \n",
       "1  24.89015118,67.04589786        1      N            1        1            1   \n",
       "2  24.86038398,67.02951905        1      N            1        1            1   \n",
       "3  24.88451887,67.06439404        3      Y            1        1            1   \n",
       "4  24.88241835,67.06616701        3      Y            1        1            1   \n",
       "\n",
       "   ELEMENT  \n",
       "0        4  \n",
       "1        4  \n",
       "2        4  \n",
       "3        4  \n",
       "4        4  \n",
       "\n",
       "[5 rows x 37 columns]"
      ]
     },
     "execution_count": 5,
     "metadata": {},
     "output_type": "execute_result"
    }
   ],
   "source": [
    "df.head()"
   ]
  },
  {
   "cell_type": "code",
   "execution_count": 6,
   "metadata": {
    "collapsed": false
   },
   "outputs": [
    {
     "data": {
      "text/plain": [
       "Index(['TOWN', 'TOWN_DESC', 'LOCALITY', 'LOCALITY_DESC', 'SLOCALITY',\n",
       "       'SLOCALITY_DESC', 'POP_CODE', 'POP_NAME', 'SECTION', 'SECTION_DESC',\n",
       "       'POS_TYPE_CODE', 'POS_TYPE', 'DOC_DATE', 'DOC_NO', 'ORDER_STATUS',\n",
       "       'PJP', 'REF_PJP', 'DSR', 'REF_DSR', 'HHT_SRNO', 'USER_ENTRY',\n",
       "       'PAYMENT_MODE', 'MARKET_NAME', 'STREET', 'COMPANY_RANK', 'RANK',\n",
       "       'ACTIVE', 'AREATYPE', 'SHOPPER_TYPE', 'OWNER_NAME', 'GPS_COORDINATES',\n",
       "       'GEOCODE', 'RURAL', 'SUB_ELEMENT', 'CHANNEL', 'SUB_CHANNEL', 'ELEMENT'],\n",
       "      dtype='object')"
      ]
     },
     "execution_count": 6,
     "metadata": {},
     "output_type": "execute_result"
    }
   ],
   "source": [
    "df.columns"
   ]
  },
  {
   "cell_type": "code",
   "execution_count": 18,
   "metadata": {
    "collapsed": false
   },
   "outputs": [
    {
     "name": "stdout",
     "output_type": "stream",
     "text": [
      "TOWN                 7\n",
      "TOWN_DESC            7\n",
      "LOCALITY             8\n",
      "LOCALITY_DESC        36\n",
      "SLOCALITY            7\n",
      "SLOCALITY_DESC       121\n",
      "POP_CODE             3302\n",
      "POP_NAME             2385\n",
      "SECTION              54\n",
      "SECTION_DESC         61\n",
      "POS_TYPE_CODE        17\n",
      "POS_TYPE             17\n",
      "DOC_DATE             1286\n",
      "DOC_NO               265999\n",
      "ORDER_STATUS         2\n",
      "PJP                  25\n",
      "REF_PJP              24\n",
      "DSR                  24\n",
      "REF_DSR              20\n",
      "HHT_SRNO             72\n",
      "USER_ENTRY           12\n",
      "PAYMENT_MODE         2\n",
      "MARKET_NAME          2871\n",
      "STREET               700\n",
      "COMPANY_RANK         3\n",
      "RANK                 5\n",
      "ACTIVE               2\n",
      "AREATYPE             2\n",
      "SHOPPER_TYPE         3\n",
      "OWNER_NAME           1089\n",
      "GPS_COORDINATES      1151\n",
      "GEOCODE              2\n",
      "RURAL                2\n",
      "SUB_ELEMENT          17\n",
      "CHANNEL              3\n",
      "SUB_CHANNEL          4\n",
      "ELEMENT              5\n"
     ]
    }
   ],
   "source": [
    "for field in df.columns:\n",
    "    print(\"{0:20} {1}\".format(field, df[field].nunique()))"
   ]
  },
  {
   "cell_type": "markdown",
   "metadata": {},
   "source": [
    "### PROBLEM HERE"
   ]
  },
  {
   "cell_type": "code",
   "execution_count": 9,
   "metadata": {
    "collapsed": false
   },
   "outputs": [
    {
     "data": {
      "text/plain": [
       "array([1, 2, 4, 3, 5, 6, 7, 8])"
      ]
     },
     "execution_count": 9,
     "metadata": {},
     "output_type": "execute_result"
    }
   ],
   "source": [
    "df['LOCALITY'].unique()"
   ]
  },
  {
   "cell_type": "code",
   "execution_count": 10,
   "metadata": {
    "collapsed": false
   },
   "outputs": [
    {
     "data": {
      "text/plain": [
       "array(['JAMSHEED ROAD', 'BOHRI BAZAR', 'BAHADURABAD', 'TARIQ ROAD',\n",
       "       'AB SENIA', 'CHANDNI CHOWK', 'PIB MAIN ROAD', \"LINE'S AREA\",\n",
       "       'BURNS ROAD', 'SULTANABAD', 'M A SOCIETY', 'KASHMIR COLONY',\n",
       "       'BOAT BASIN', 'DHA-5', 'MANZOOR COLONY', 'AKHTAR COLONY',\n",
       "       'AZAM BASTI', 'MEHMOODABAD 123', 'CANTT', 'GIZRI', 'GREEN BELT',\n",
       "       'DHA-2', 'SHIREEN JINNAH', 'CLIFTON 2TALWAR', 'PUNJAB COLONY',\n",
       "       'DEHLI COLONY', 'BHUTTA VILLAGE', 'DHA-4', 'MEHMOODABAD 456',\n",
       "       'QAYYUMABAD', 'DHA-6', 'DHA-7', 'CHANESAR GOTH', 'DHA-8', 'DHA-1',\n",
       "       'CLIFTON 3TALWAR'], dtype=object)"
      ]
     },
     "execution_count": 10,
     "metadata": {},
     "output_type": "execute_result"
    }
   ],
   "source": [
    "df['LOCALITY_DESC'].unique()"
   ]
  },
  {
   "cell_type": "code",
   "execution_count": 19,
   "metadata": {
    "collapsed": false
   },
   "outputs": [
    {
     "name": "stdout",
     "output_type": "stream",
     "text": [
      "Improper recording is done for SECTION_DESC\n",
      "Improper recording is done for SLOCALITY_DESC\n",
      "Improper recording is done for PJP\n",
      "Improper recording is done for DSR\n",
      "Improper recording is done for LOCALITY_DESC\n",
      "Improper recording is done for POP_NAME\n"
     ]
    }
   ],
   "source": [
    "for fid, fname in {'TOWN' : 'TOWN_DESC', 'LOCALITY' : 'LOCALITY_DESC',\n",
    "                   'SLOCALITY' : 'SLOCALITY_DESC', 'POP_CODE' : 'POP_NAME',\n",
    "                   'SECTION' : 'SECTION_DESC', 'POS_TYPE_CODE': 'POS_TYPE',\n",
    "                   'REF_PJP' : 'PJP', 'REF_DSR' : 'DSR'}.items():\n",
    "    if df[fid].nunique() != df[fname].nunique():\n",
    "        print(\"Improper recording is done for %s\"%fname)"
   ]
  },
  {
   "cell_type": "code",
   "execution_count": 11,
   "metadata": {
    "collapsed": false
   },
   "outputs": [
    {
     "data": {
      "text/plain": [
       "SADDAR         172904\n",
       "SOCIETY         92164\n",
       "PIB COLONY      78822\n",
       "MEHMOODABAD      4050\n",
       "CLIFTON          3154\n",
       "DEFENCE          2753\n",
       "KEMARI           1331\n",
       "Name: TOWN_DESC, dtype: int64"
      ]
     },
     "execution_count": 11,
     "metadata": {},
     "output_type": "execute_result"
    }
   ],
   "source": [
    "df['TOWN_DESC'].value_counts()"
   ]
  },
  {
   "cell_type": "code",
   "execution_count": 9,
   "metadata": {
    "collapsed": false
   },
   "outputs": [
    {
     "data": {
      "text/plain": [
       "LINE'S AREA        54023\n",
       "SULTANABAD         46586\n",
       "JAMSHEED ROAD      41606\n",
       "PIB MAIN ROAD      37216\n",
       "TARIQ ROAD         32723\n",
       "M A SOCIETY        29465\n",
       "BURNS ROAD         25852\n",
       "BOHRI BAZAR        24058\n",
       "AB SENIA           22385\n",
       "BAHADURABAD        17591\n",
       "CHANDNI CHOWK      12385\n",
       "MANZOOR COLONY       931\n",
       "BHUTTA VILLAGE       903\n",
       "CANTT                728\n",
       "GIZRI                711\n",
       "QAYYUMABAD           650\n",
       "AKHTAR COLONY        628\n",
       "BOAT BASIN           604\n",
       "MEHMOODABAD 456      592\n",
       "KASHMIR COLONY       579\n",
       "DHA-6                571\n",
       "DHA-5                532\n",
       "DHA-2                518\n",
       "AZAM BASTI           439\n",
       "SHIREEN JINNAH       428\n",
       "CHANESAR GOTH        408\n",
       "CLIFTON 2TALWAR      397\n",
       "DEHLI COLONY         332\n",
       "GREEN BELT           267\n",
       "DHA-4                261\n",
       "PUNJAB COLONY        241\n",
       "MEHMOODABAD 123      206\n",
       "CLIFTON 3TALWAR      141\n",
       "DHA-7                103\n",
       "DHA-1                 93\n",
       "DHA-8                 25\n",
       "Name: LOCALITY_DESC, dtype: int64"
      ]
     },
     "execution_count": 9,
     "metadata": {},
     "output_type": "execute_result"
    }
   ],
   "source": [
    "df['LOCALITY_DESC'].value_counts()"
   ]
  },
  {
   "cell_type": "code",
   "execution_count": 13,
   "metadata": {
    "collapsed": false
   },
   "outputs": [
    {
     "data": {
      "text/plain": [
       "JUTT LINE          30975\n",
       "MARTIN QUARTER     28658\n",
       "HIJRAT COLONY      27415\n",
       "JACOB LINE         23048\n",
       "ADAMJI NAGAR       18424\n",
       "RATAN TULLAO       15373\n",
       "AMEENABAD          14621\n",
       "IQBAL COLONY       14304\n",
       "RAILWAY COLONY     13212\n",
       "SINDHI MUSLIM      12142\n",
       "DMCHS              11984\n",
       "SHARIFABAD         11271\n",
       "TAYYABA SOCIETY    10243\n",
       "FATMA JINAH CLY    10056\n",
       "COMMERCIAL MKT      9236\n",
       "LUCKY STAR          8854\n",
       "KARACHI CENTER      8291\n",
       "PRESS CLUB          8001\n",
       "AL FALAH            7514\n",
       "EMPRESS MARKET      7203\n",
       "DHORAJI             6979\n",
       "UK SQUARE           6401\n",
       "MASHRIQ CENTER      5984\n",
       "GARRI KHATA         5555\n",
       "PAKISTAN CHOWK      4924\n",
       "CP BARAR SCIETY     4062\n",
       "NURSERY             3989\n",
       "CHOTTI MARKET       3986\n",
       "II CHNDRIGAR RD     2549\n",
       "PIDC                2443\n",
       "                   ...  \n",
       "ZAM ZAMA              69\n",
       "MEHMOODABAD 4         68\n",
       "ABBASI CHOWK          68\n",
       "TOUHEED COMM          67\n",
       "CHANDIO VILLAGE       67\n",
       "LIAQUAT ASHRAF2       61\n",
       "NSHAT COMERCIAL       59\n",
       "CLIFTON BLK 4         50\n",
       "STREET 1 TO 7         49\n",
       "MEHMOODABAD 3         48\n",
       "GAZALI ROAD           47\n",
       "D SECTOR              46\n",
       "BADSHAH KHAN RD       46\n",
       "CLIFTON BLK 2         43\n",
       "NISHTAR ROAD          41\n",
       "MEHMODABAD GATE       40\n",
       "MEHMOODABAD 1         40\n",
       "PUNJAB ROAD           40\n",
       "FATIMA JINAH RD       37\n",
       "TAPOO                 36\n",
       "CANTT STATION         36\n",
       "GABOL COLONY          34\n",
       "DAUD POTA ROAD        32\n",
       "KHYBAN-E-SHAHEN       25\n",
       "ITTEHAD COMM          22\n",
       "FIRYA TOWN            21\n",
       "STREET 8 TO 20        17\n",
       "NEW BASTI             16\n",
       "GHOST MKT             12\n",
       "DOPTA MARKET           7\n",
       "Name: SLOCALITY_DESC, dtype: int64"
      ]
     },
     "execution_count": 13,
     "metadata": {},
     "output_type": "execute_result"
    }
   ],
   "source": [
    "df['SLOCALITY_DESC'].value_counts()"
   ]
  },
  {
   "cell_type": "code",
   "execution_count": 15,
   "metadata": {
    "collapsed": false
   },
   "outputs": [
    {
     "data": {
      "text/plain": [
       "array(['MARTIN QUARTER', 'PRESS CLUB', 'CHOTTI MARKET', 'SHARIFABAD',\n",
       "       'COMMERCIAL MKT', 'NURSERY', 'AL FALAH', 'TAYYABA SOCIETY',\n",
       "       'MASHRIQ CENTER', 'UK SQUARE', 'AMEENABAD', 'IQBAL COLONY',\n",
       "       'KARACHI CENTER', 'JACOB LINE', 'RATAN TULLAO', 'HIJRAT COLONY',\n",
       "       'EMPRESS MARKET', 'RAILWAY COLONY', 'JUTT LINE', 'GARRI KHATA',\n",
       "       'ADAMJI NAGAR', 'LUCKY STAR', 'SINDHI MUSLIM', 'KASHMIR COLONY',\n",
       "       'KHUDADAD COLONY', 'PIDC', 'II CHNDRIGAR RD', 'DMCHS',\n",
       "       'CP BARAR SCIETY', 'PAKISTAN CHOWK', 'FATMA JINAH CLY',\n",
       "       'HYDERABAD COLNY', 'CHINA TOWN', 'DHORAJI', 'KOKAN SOCIETY', 'PNSC',\n",
       "       'BADAR COMERCIAL', 'JUNEJO TOWN', 'AZAM TOWN', '100 FIT ROAD',\n",
       "       'MEHMOODABAD 1', 'BAZZARTA LINE', 'PNT COLONY', 'KHADDA MARKET',\n",
       "       'UMAR COLONY', 'JAMI COMMERCIAL', 'FURNITURE MKT', 'HINDU PARA',\n",
       "       'SHAH RASOL CLNY', 'KALA PUL', 'PUNJAB COLONY', 'LIAQUAT ASHRAF',\n",
       "       'AWAMI CHOWK', 'MAIN BAZAR', 'TAPOO', 'SABA COMEMRCIAL',\n",
       "       'JACKSON MARKET', 'CHANESAR HALT', 'D SECTOR', 'GAZALI ROAD',\n",
       "       'PINDI CHOWK', 'PINGERI PAHRA', 'MASAN ROAD ', 'KARACHI ADMIN',\n",
       "       'MEHMOODABAD 4', 'ALLAMA IQBAL RD', 'QASIM SHAH ROAD', 'A AREA',\n",
       "       'SINDH MUSLIM', 'CLIFTON BLK 5', 'UPPER GIZRI', 'PARSI COLONY',\n",
       "       'GHOST MKT', 'NEW BASTI', 'NISHTAR ROAD', 'SHEHBAZ COMM',\n",
       "       'RAHAT COMERCIAL', 'SEHAR COMERCIAL', 'E SECTOR', 'B & C AREA',\n",
       "       'SHIREEN JINNAH', 'TARA CHAND ROAD', 'BADSHAH KHAN RD', 'KPT',\n",
       "       'STREET 1 TO 7', 'ITTEHAD COMM', 'NSHAT COMERCIAL',\n",
       "       'KHYBAN-E-SHAHEN', 'BUKHARI COMM', 'KORANGI ROAD', 'DEFENCE COMM',\n",
       "       'EXT 2', 'DOPTA MARKET', 'CLIFTON BLK 2', 'CLIFTON BLK 4',\n",
       "       'CLIFTON BRIDGE', 'FIRYA TOWN', 'RATI LINE', 'HUSSAIN BKSH RD',\n",
       "       'STREET 8 TO 20', 'DEFENCE VIEW', 'MASOOM SHAH RD', 'CANTT STATION',\n",
       "       'DAUD POTA ROAD', 'FATIMA JINAH RD', 'NEELAM COLONY',\n",
       "       'TOUHEED COMM', 'ZAM ZAMA', 'B AREA', 'C AREA', 'D AREA',\n",
       "       'PUNJAB ROAD ', 'MEHMODABAD GATE', 'MEHMOODABAD 2', 'MEHMOODABAD 3',\n",
       "       'MEHMOODABAD 5', 'MEHMOODABAD 6', 'LIAQUAT ASHRAF2', 'ABBASI CHOWK',\n",
       "       'CHANDIO VILLAGE', 'GABOL COLONY'], dtype=object)"
      ]
     },
     "execution_count": 15,
     "metadata": {},
     "output_type": "execute_result"
    }
   ],
   "source": [
    "df['SLOCALITY_DESC'].unique()"
   ]
  },
  {
   "cell_type": "code",
   "execution_count": 21,
   "metadata": {
    "collapsed": false
   },
   "outputs": [
    {
     "data": {
      "text/plain": [
       "TARIQ RD HILPRK            21897\n",
       "PIB COLONY                 21523\n",
       "M.A SOC DHORAJI            21226\n",
       "MARTIN QUARTER             20956\n",
       "LINE'S AREA 2              20774\n",
       "BAHADURABAD                20545\n",
       "SADDAR                     20475\n",
       "LINE'S AREA 1              20434\n",
       "BURNS ROAD                 19418\n",
       "AB SENIA                   19271\n",
       "AL FALAH                   18436\n",
       "RAILWAY COLONY             17755\n",
       "FATIMA JINAH CL            17714\n",
       "CHANDNI CHOWK              16625\n",
       "IQBL CL PIB WS             15832\n",
       "SULTANABAD                 12365\n",
       "SULTANABAD                 10373\n",
       "SADDAR 2                    9355\n",
       "HIJRAT COLONY               8682\n",
       "SHAHABUDDIN WS              4395\n",
       "EMPRESS MKT W/S             3109\n",
       "TARIQ ROAD COMM             1594\n",
       "P.I.B W/S                    581\n",
       "CLIFTON CANTT                513\n",
       "PNT COLONY DHA4              489\n",
       "BADAR KHADA MKT              484\n",
       "UPPER GIZRI                  453\n",
       "LIAQUAT ASHRAF2              433\n",
       "MEHMOODABAD                  422\n",
       "AKHTAR COLONY 2              411\n",
       "                           ...  \n",
       "SHIREEN JINNAH               397\n",
       "AKHTAR COLONY 1              394\n",
       "CHANESAR GOTH                391\n",
       "MANZOOR COLNY 2              384\n",
       "KASHMIR COLONY               384\n",
       "SULTANABAD W/S               374\n",
       "NEELAM COLONY                371\n",
       "DEFANCE 2                    364\n",
       "MANZOOR COLNY 1              354\n",
       "QAYYUMABAD A,B               351\n",
       "SHEHBAZ,RAHAT                349\n",
       "BOAT BASIN                   347\n",
       "LINESAREA W/S                346\n",
       "BAZARTA LINE                 345\n",
       "AZAM BASTI                   323\n",
       "KEMARI 3                     307\n",
       "QAYYUMABAD C,D               307\n",
       "DEHLI COLONY                 306\n",
       "DEFENCE 1,2                  277\n",
       "PUNJAB COLONY                274\n",
       "GREEN BELT                   256\n",
       "KEMARI 2                     237\n",
       "KEMARI 1                     211\n",
       "A.B Senia                    155\n",
       "KEMARI W/S                   139\n",
       "Beats-VAN                    118\n",
       "HIJRAT COLONY                 88\n",
       "SULANABAD                     72\n",
       "A.B Senia Lines Area 02       10\n",
       "FOC                            2\n",
       "Name: SECTION_DESC, dtype: int64"
      ]
     },
     "execution_count": 21,
     "metadata": {},
     "output_type": "execute_result"
    }
   ],
   "source": [
    "df['SECTION_DESC'].value_counts()"
   ]
  },
  {
   "cell_type": "code",
   "execution_count": 24,
   "metadata": {
    "collapsed": false
   },
   "outputs": [
    {
     "data": {
      "text/plain": [
       "array(['MARTIN QUARTER', 'SADDAR', 'BAHADURABAD', 'TARIQ RD HILPRK',\n",
       "       'AL FALAH ', 'CHANDNI CHOWK', 'PIB COLONY', 'SADDAR 2',\n",
       "       'RAILWAY COLONY', \"LINE'S AREA 1\", 'SULTANABAD ', 'FATIMA JINAH CL',\n",
       "       \"LINE'S AREA 2\", 'HIJRAT COLONY', 'M.A SOC DHORAJI',\n",
       "       'IQBL CL PIB WS', 'AB SENIA', 'A.B Senia', 'SHAHABUDDIN WS',\n",
       "       'BURNS ROAD', 'SULTANABAD', 'SULANABAD ', 'HIJRAT COLONY ',\n",
       "       'EMPRESS MKT W/S', 'Beats-VAN', 'FOC', 'CLIFTON CANTT',\n",
       "       'SULTANABAD W/S', 'P.I.B W/S', 'LINESAREA W/S', 'TARIQ ROAD COMM',\n",
       "       'A.B Senia Lines Area 02', 'MANZOOR COLNY 1', 'DEHLI COLONY',\n",
       "       'SHEHBAZ,RAHAT', 'KEMARI 1', 'AKHTAR COLONY 2', 'SHIREEN JINNAH',\n",
       "       'AKHTAR COLONY 1', 'KEMARI 2', 'BUKHARI,MISRI', 'DEFENCE 1,2',\n",
       "       'BOAT BASIN', 'BAZARTA LINE', 'BADAR KHADA MKT', 'KEMARI W/S',\n",
       "       'CHANESAR GOTH ', 'NEELAM COLONY', 'PNT COLONY DHA4',\n",
       "       'QAYYUMABAD C,D', 'QAYYUMABAD A,B', 'LIAQUAT ASHRAF2',\n",
       "       'KASHMIR COLONY', 'MANZOOR COLNY 2', 'MEHMOODABAD', 'AZAM BASTI',\n",
       "       'KEMARI 3', 'UPPER GIZRI', 'PUNJAB COLONY', 'DEFANCE 2',\n",
       "       'GREEN BELT '], dtype=object)"
      ]
     },
     "execution_count": 24,
     "metadata": {},
     "output_type": "execute_result"
    }
   ],
   "source": [
    "df['SECTION_DESC'].unique()"
   ]
  },
  {
   "cell_type": "code",
   "execution_count": 28,
   "metadata": {
    "collapsed": false
   },
   "outputs": [
    {
     "data": {
      "text/plain": [
       "BISMILLAH GENERAL STORE              5582\n",
       "MASHALLAH GENERAL STORE              3892\n",
       "MADINA GENERAL STORE                 3478\n",
       "BISMILLAH PAN SHOP                   2785\n",
       "AL MADINA GENERAL STORE              2407\n",
       "JAVEED GENERAL STORE                 1995\n",
       "MADINA BAKERY                        1981\n",
       "ABBASI GENERAL STORE                 1838\n",
       "SHAHID GENERAL STORE                 1798\n",
       "NAVEED GENERAL STORE                 1736\n",
       "BISMILLAH BAKERY                     1457\n",
       "AWAMI GENERAL STORE                  1441\n",
       "ZAHID GENERAL STORE                  1410\n",
       "ASIF GENERAL STORE                   1405\n",
       "IRFAN GENERAL STORE                  1370\n",
       "IBRAHIM GENERAL STORE                1291\n",
       "MADINA PAN SHOP                      1291\n",
       "EJAZ GENERAL STORE                   1280\n",
       "AL SHIFA MEDICAL STORE               1268\n",
       "MEHMOOD GENERAL STORE                1224\n",
       "RAFIQ GENERAL STORE                  1218\n",
       "IDEAL BAKERY                         1218\n",
       "HASSAN GENERAL STORE                 1129\n",
       "USMAN GENERAL STORE                  1122\n",
       "MACCA GENERAL STORE                  1107\n",
       "TAWAKKAL GENERAL STORE               1092\n",
       "REHMANIA GENERAL STORE                987\n",
       "SOCIETY GENERAL STORE                 961\n",
       "REHMAN GENERAL STORE                  952\n",
       "SUBHANALLAH BAKERY                    935\n",
       "                                     ... \n",
       "BIN ADAM MART                           1\n",
       "ALEEM AGHA GENERAL STORE                1\n",
       "BARI GENERAL STORE                      1\n",
       "FAROOQ CONFECTIONERY SHOP               1\n",
       "P.S.O MART                              1\n",
       "D.A JUNIOUR                             1\n",
       "BARERA GENERAL STORE                    1\n",
       "ALI BABA COLD SPOT                      1\n",
       "MADIHA GENERAL STORE                    1\n",
       "SALMAN BROTHERS GENERAL STORE           1\n",
       "SHAH HUSSAIN PAN SHOP                   1\n",
       "BAKERS CRAFT BAKERY                     1\n",
       "MARHABA FOOD CENTER                     1\n",
       "AL MAJID GENERAL STORE                  1\n",
       "MEMON KIRYANA STORE                     1\n",
       "AL MURTAZA SCHOOL                       1\n",
       "WILAYAT SHAH GENERAL STORE              1\n",
       "CRESENT SCHOOL                          1\n",
       "FAZAL REHMAN AFRIDI GENERAL STORE       1\n",
       "AL SADAQAT GENERAL STORE                1\n",
       "RANA SHAHID GENERAL STORE               1\n",
       "AMMAR STORE                             1\n",
       "SHAH FAISAL GENERAL STORE               1\n",
       "SALEEM CONFECTIONERY SHOP               1\n",
       "LIAQUAT NATIONAL HOSPITAL 3             1\n",
       "THE PAN SHOP                            1\n",
       "ASLAM GENERAL  STORE                    1\n",
       "SUPER NEW IDEAL BAKERY                  1\n",
       "UMAR ZAIB KIRYANA STORE                 1\n",
       "GOVT GIRLS ISLAMIA COLLEGE              1\n",
       "Name: POP_NAME, dtype: int64"
      ]
     },
     "execution_count": 28,
     "metadata": {},
     "output_type": "execute_result"
    }
   ],
   "source": [
    "df['POP_NAME'].value_counts()"
   ]
  },
  {
   "cell_type": "code",
   "execution_count": 30,
   "metadata": {
    "collapsed": false
   },
   "outputs": [
    {
     "data": {
      "text/plain": [
       "-                                 5176\n",
       "JAMSHED ROAD EAST                 1554\n",
       "MARTIN ROAD                       1437\n",
       "B-7/8 CP SOCIETY MAIN DHORAJI     1435\n",
       "MADINA ROAD NEAR SHAHAB UDDIN     1411\n",
       "RAILWAY COLONY UN LEASED PLOTS    1297\n",
       "271-MEENA BAZAR MAIN PIB COLNY    1261\n",
       "SHOP NO.6 SUBRAG HOSPITAL         1188\n",
       "JUTT LINE BAZAR LINE'S AREA       1110\n",
       "SHOP NO G/15 HASSAN ARCADE        1105\n",
       "BLOCK 2 COMMERCIAL MARKET         1096\n",
       "MAIN PIB MEENA BAZAR              1070\n",
       "FALCON PLAZA TARIQ ROAD           1026\n",
       "R 628 SECTOR 18                   1007\n",
       "USMANI MUJAHID COLONY              978\n",
       "PLOT NO.A-6/8 RAILWAY COLONY       958\n",
       "FATIMA JINNAH COLONY               957\n",
       " PLOT NO 627 PIB COLONY            947\n",
       "MAIN GROWMANDAR CHORANGI           941\n",
       "MAIN GURUMANDIR ROAD               904\n",
       "PLOT NO 231 RAILWAY COLONY         898\n",
       "SHOP NO.1 HUSSAIN ARCADE PIB       892\n",
       "NEAR TANVEER MASJID                881\n",
       "MAIN BUS STOP PIB COLONY           859\n",
       "PLOT NO.654/11 QURESHIA CHOWK      855\n",
       "SHOP NO 6 BLOCK 8                  844\n",
       "AWAMI PARK VIEW  BLOCK 2           828\n",
       "NIZAMI ROAD NEAR BLIND SCHOOL      819\n",
       "M.ALI SOCIETY                      808\n",
       "SHOP # 44 HAJI CAMP SULTANABAD     806\n",
       "                                  ... \n",
       "SECTOR BAZAR SEC 8C MAIN BAZAR       1\n",
       "SHOP #  2 ST 05                      1\n",
       "PAN MANDI EMPRESS MKT SH # 112       1\n",
       "ST 10 SHOP # 8 U 10 BUS STOP         1\n",
       "748 JUNEJO TOWN                      1\n",
       "PH # 2 EXT 14 COMMERCIAL             1\n",
       "PLOT NO 295 BAZZARTA LINE            1\n",
       "Z-459 GAT-9 BAHADURABAD              1\n",
       "QAYYUMABAD C AREA                    1\n",
       "236/C BLK 3                          1\n",
       "NEAR ROSMAN SHOP                     1\n",
       "PLOT # 23/D SEC MANZOOR COLONY       1\n",
       "PLOT NO 19 CIVIL CANTT STATION       1\n",
       "ADNAN VIEW 34/10 DEHLI COLONY        1\n",
       "FARAN SOCIETY DHORAJI COLONY         1\n",
       "55 NO 9 HILL AREA                    1\n",
       "SHOP # 5 NEAR NATIONAL COLLEGE       1\n",
       "B 58                                 1\n",
       "914 MEHMOODABAD NO 5                 1\n",
       "351 MANZOOR COLONY                   1\n",
       "SN 4 OR 4 B6 SULEMANIA MASJID        1\n",
       "HOUSE NO 7 SHOP # 1                  1\n",
       "371 MANZOOR COLONY                   1\n",
       "R/61 BLK 6 PCHS SHOP # 1             1\n",
       "PLOT NO.616/10 QURESHIA CHOWK        1\n",
       "UMAR KHAN ROAD TAPOO                 1\n",
       "PLOT NO.1132 PIB COLONY              1\n",
       "PLOT # 4-C 368 HAZARA COLONY         1\n",
       "SHOP #  2 FATIMA JINNAH ROAD         1\n",
       "792 Block no 2 N.K.C.H.S  Soci       1\n",
       "Name: MARKET_NAME, dtype: int64"
      ]
     },
     "execution_count": 30,
     "metadata": {},
     "output_type": "execute_result"
    }
   ],
   "source": [
    "df['MARKET_NAME'].value_counts()"
   ]
  },
  {
   "cell_type": "code",
   "execution_count": 33,
   "metadata": {
    "collapsed": false
   },
   "outputs": [
    {
     "data": {
      "text/plain": [
       "-                        13878\n",
       "MEENA BAZAR               9962\n",
       "USMANIA MASJID            5979\n",
       "MADINA MASJID             5136\n",
       "MID CITY APPARTMENT       5124\n",
       "CDGK PARKING PLAZA        4729\n",
       "AL MADINA MASJID          4574\n",
       "A-MARKET                  4526\n",
       "GHOUSIA MASJID            4314\n",
       "CIA CENTRE                3981\n",
       "BISMILLAH MASJID          3849\n",
       "NEAR TANVEER MASJID       3746\n",
       "BISCONNI CIRCLE           3618\n",
       "C.I.A CENTER              3458\n",
       "USMANI PARK               3444\n",
       "QUBA MASJID               3443\n",
       "BAHADURABAD CHOWK         3410\n",
       "ALVA WAFAR                3332\n",
       "CIVIC CENTRE              3248\n",
       "DAR UL SALAM MASJID       3173\n",
       "RAILWAY PATHAK            3121\n",
       "GHARYAL BUILDING          3081\n",
       "PREEDY THANA              2963\n",
       "MARTIN QUARTER            2905\n",
       "JUTT LINE                 2758\n",
       "A B SENIA BAZAR           2681\n",
       "ZAINAB MARKET             2669\n",
       "YAQOOBIA MASJID           2595\n",
       "PSO PUMP                  2579\n",
       "MOHAMMAD MASJID           2555\n",
       "                         ...  \n",
       "MCB BANK                     2\n",
       "MIDLING HOSPITAL             2\n",
       "BHUTTO GROUND                2\n",
       "RADIO PAKISTAN               2\n",
       "PALM BEACH HOME              2\n",
       "KABIRA CHOWK                 2\n",
       "FAMILY PARK                  2\n",
       "FAISAL BANK                  2\n",
       "SHAHEEN GROUND               2\n",
       "GOSH MART                    2\n",
       "ARMY WELFARE                 2\n",
       "FURNITER MKT                 2\n",
       "PINGERI PAHRA                2\n",
       "SADIQ MASJID                 1\n",
       "GARDEN CHOWK                 1\n",
       "EXT 2                        1\n",
       "QAYYUMABAD CHOWRANGI         1\n",
       "SOCIETY                      1\n",
       "CHINA TOWN                   1\n",
       "GHARYALI BUILLDING           1\n",
       "UMAR COLONY                  1\n",
       "CLIFTON BRIDGE               1\n",
       "NEAR AHMED HOSPITAL          1\n",
       "ST ANDREW CHRUCH             1\n",
       "LUCKY AFRIDI ROAD            1\n",
       "FAIZAN MASJID                1\n",
       "MASJID E AQSA                1\n",
       "HEAVEN APPARTMENT            1\n",
       "GIZRI FOOTBAL GROUND         1\n",
       "GAS BANDAR ROAD              1\n",
       "Name: STREET, dtype: int64"
      ]
     },
     "execution_count": 33,
     "metadata": {},
     "output_type": "execute_result"
    }
   ],
   "source": [
    "df['STREET'].value_counts()"
   ]
  },
  {
   "cell_type": "code",
   "execution_count": 48,
   "metadata": {
    "collapsed": false
   },
   "outputs": [
    {
     "name": "stdout",
     "output_type": "stream",
     "text": [
      "Multiple values in SECTION have been allocated for the same POP\n",
      "Multiple values in POS_TYPE_CODE have been allocated for the same POP\n"
     ]
    }
   ],
   "source": [
    "for field in ['TOWN', 'LOCALITY', 'SLOCALITY', 'SECTION', 'POS_TYPE_CODE', 'MARKET_NAME', 'STREET']:\n",
    "    unique_occurances = df.groupby(['POP_CODE'])[field].nunique().values\n",
    "    if sum(unique_occurances) > unique_occurances.size:\n",
    "        print(\"Multiple values in %s have been allocated for the same POP\"%field)"
   ]
  },
  {
   "cell_type": "code",
   "execution_count": 54,
   "metadata": {
    "collapsed": false
   },
   "outputs": [
    {
     "data": {
      "text/plain": [
       "1585"
      ]
     },
     "execution_count": 54,
     "metadata": {},
     "output_type": "execute_result"
    }
   ],
   "source": [
    "street_ser = df.groupby(['POP_CODE'])['SECTION'].nunique().values\n",
    "len([ser for ser in street_ser if ser > 1])"
   ]
  },
  {
   "cell_type": "code",
   "execution_count": 57,
   "metadata": {
    "collapsed": false
   },
   "outputs": [
    {
     "data": {
      "text/plain": [
       "1"
      ]
     },
     "execution_count": 57,
     "metadata": {},
     "output_type": "execute_result"
    }
   ],
   "source": [
    "street_ser = df.groupby(['POP_CODE'])['POS_TYPE_CODE'].nunique().values\n",
    "len([ser for ser in street_ser if ser > 1])"
   ]
  },
  {
   "cell_type": "code",
   "execution_count": 27,
   "metadata": {
    "collapsed": false
   },
   "outputs": [
    {
     "data": {
      "text/plain": [
       "General Store              198996\n",
       "Pan Shop                    42831\n",
       "Medical Store               31405\n",
       "Bakery                      27856\n",
       "Confectionary               14603\n",
       "Whole Sale                  11873\n",
       "Milk Shop                    6323\n",
       "Tea Stalls/Drink Corner      6103\n",
       "Kiryana Store                4220\n",
       "Kiosk                        3887\n",
       "Canteen                      3231\n",
       "PCO                          1879\n",
       "Non Contracted                743\n",
       "Contracted                    598\n",
       "Petro Mart                    334\n",
       "Airport                       268\n",
       "Retailer                       28\n",
       "Name: POS_TYPE, dtype: int64"
      ]
     },
     "execution_count": 27,
     "metadata": {},
     "output_type": "execute_result"
    }
   ],
   "source": [
    "df['POS_TYPE'].value_counts()"
   ]
  },
  {
   "cell_type": "code",
   "execution_count": 84,
   "metadata": {
    "collapsed": false
   },
   "outputs": [
    {
     "data": {
      "text/plain": [
       "2       59726\n",
       "3       58943\n",
       "12      50228\n",
       "13      42991\n",
       "1       31051\n",
       "18      26628\n",
       "11      25675\n",
       "20      22851\n",
       "22      14217\n",
       "16       7583\n",
       "5        2544\n",
       "8        2250\n",
       "6        2156\n",
       "4        1860\n",
       "7        1749\n",
       "23       1446\n",
       "17       1045\n",
       "26        781\n",
       "25        682\n",
       "29        467\n",
       "10        119\n",
       "24        118\n",
       "14         51\n",
       "15         14\n",
       "2001        3\n",
       "Name: PJP, dtype: int64"
      ]
     },
     "execution_count": 84,
     "metadata": {},
     "output_type": "execute_result"
    }
   ],
   "source": [
    "df['PJP'].value_counts()"
   ]
  },
  {
   "cell_type": "code",
   "execution_count": 80,
   "metadata": {
    "collapsed": false
   },
   "outputs": [
    {
     "data": {
      "text/plain": [
       "2     59726\n",
       "3     58943\n",
       "12    50228\n",
       "13    42991\n",
       "1     31218\n",
       "19    26628\n",
       "11    25675\n",
       "20    22851\n",
       "21    14217\n",
       "17     7583\n",
       "5      2544\n",
       "8      2250\n",
       "6      2156\n",
       "4      1860\n",
       "7      1749\n",
       "22     1446\n",
       "18      997\n",
       "24      781\n",
       "23      682\n",
       "26      467\n",
       "10      118\n",
       "14       51\n",
       "15       14\n",
       "16        3\n",
       "Name: DSR, dtype: int64"
      ]
     },
     "execution_count": 80,
     "metadata": {},
     "output_type": "execute_result"
    }
   ],
   "source": [
    "df['DSR'].value_counts()"
   ]
  },
  {
   "cell_type": "code",
   "execution_count": 96,
   "metadata": {
    "collapsed": false
   },
   "outputs": [
    {
     "data": {
      "text/html": [
       "<div>\n",
       "<table border=\"1\" class=\"dataframe\">\n",
       "  <thead>\n",
       "    <tr style=\"text-align: right;\">\n",
       "      <th></th>\n",
       "      <th>PJP</th>\n",
       "      <th>DSR</th>\n",
       "      <th>Same</th>\n",
       "    </tr>\n",
       "  </thead>\n",
       "  <tbody>\n",
       "    <tr>\n",
       "      <th>1</th>\n",
       "      <td>31051</td>\n",
       "      <td>31218</td>\n",
       "      <td>False</td>\n",
       "    </tr>\n",
       "    <tr>\n",
       "      <th>2</th>\n",
       "      <td>59726</td>\n",
       "      <td>59726</td>\n",
       "      <td>True</td>\n",
       "    </tr>\n",
       "    <tr>\n",
       "      <th>3</th>\n",
       "      <td>58943</td>\n",
       "      <td>58943</td>\n",
       "      <td>True</td>\n",
       "    </tr>\n",
       "    <tr>\n",
       "      <th>4</th>\n",
       "      <td>1860</td>\n",
       "      <td>1860</td>\n",
       "      <td>True</td>\n",
       "    </tr>\n",
       "    <tr>\n",
       "      <th>5</th>\n",
       "      <td>2544</td>\n",
       "      <td>2544</td>\n",
       "      <td>True</td>\n",
       "    </tr>\n",
       "    <tr>\n",
       "      <th>6</th>\n",
       "      <td>2156</td>\n",
       "      <td>2156</td>\n",
       "      <td>True</td>\n",
       "    </tr>\n",
       "    <tr>\n",
       "      <th>7</th>\n",
       "      <td>1749</td>\n",
       "      <td>1749</td>\n",
       "      <td>True</td>\n",
       "    </tr>\n",
       "    <tr>\n",
       "      <th>8</th>\n",
       "      <td>2250</td>\n",
       "      <td>2250</td>\n",
       "      <td>True</td>\n",
       "    </tr>\n",
       "    <tr>\n",
       "      <th>10</th>\n",
       "      <td>119</td>\n",
       "      <td>118</td>\n",
       "      <td>True</td>\n",
       "    </tr>\n",
       "    <tr>\n",
       "      <th>11</th>\n",
       "      <td>25675</td>\n",
       "      <td>25675</td>\n",
       "      <td>True</td>\n",
       "    </tr>\n",
       "    <tr>\n",
       "      <th>12</th>\n",
       "      <td>50228</td>\n",
       "      <td>50228</td>\n",
       "      <td>True</td>\n",
       "    </tr>\n",
       "    <tr>\n",
       "      <th>13</th>\n",
       "      <td>42991</td>\n",
       "      <td>42991</td>\n",
       "      <td>True</td>\n",
       "    </tr>\n",
       "    <tr>\n",
       "      <th>14</th>\n",
       "      <td>51</td>\n",
       "      <td>51</td>\n",
       "      <td>True</td>\n",
       "    </tr>\n",
       "    <tr>\n",
       "      <th>15</th>\n",
       "      <td>14</td>\n",
       "      <td>14</td>\n",
       "      <td>True</td>\n",
       "    </tr>\n",
       "    <tr>\n",
       "      <th>16</th>\n",
       "      <td>7583</td>\n",
       "      <td>3</td>\n",
       "      <td>True</td>\n",
       "    </tr>\n",
       "    <tr>\n",
       "      <th>17</th>\n",
       "      <td>1045</td>\n",
       "      <td>7583</td>\n",
       "      <td>True</td>\n",
       "    </tr>\n",
       "    <tr>\n",
       "      <th>18</th>\n",
       "      <td>26628</td>\n",
       "      <td>997</td>\n",
       "      <td>True</td>\n",
       "    </tr>\n",
       "    <tr>\n",
       "      <th>19</th>\n",
       "      <td>NaN</td>\n",
       "      <td>26628</td>\n",
       "      <td>True</td>\n",
       "    </tr>\n",
       "    <tr>\n",
       "      <th>20</th>\n",
       "      <td>22851</td>\n",
       "      <td>22851</td>\n",
       "      <td>True</td>\n",
       "    </tr>\n",
       "    <tr>\n",
       "      <th>21</th>\n",
       "      <td>NaN</td>\n",
       "      <td>14217</td>\n",
       "      <td>True</td>\n",
       "    </tr>\n",
       "    <tr>\n",
       "      <th>22</th>\n",
       "      <td>14217</td>\n",
       "      <td>1446</td>\n",
       "      <td>True</td>\n",
       "    </tr>\n",
       "    <tr>\n",
       "      <th>23</th>\n",
       "      <td>1446</td>\n",
       "      <td>682</td>\n",
       "      <td>False</td>\n",
       "    </tr>\n",
       "    <tr>\n",
       "      <th>24</th>\n",
       "      <td>118</td>\n",
       "      <td>781</td>\n",
       "      <td>False</td>\n",
       "    </tr>\n",
       "    <tr>\n",
       "      <th>25</th>\n",
       "      <td>682</td>\n",
       "      <td>NaN</td>\n",
       "      <td>False</td>\n",
       "    </tr>\n",
       "    <tr>\n",
       "      <th>26</th>\n",
       "      <td>781</td>\n",
       "      <td>467</td>\n",
       "      <td>False</td>\n",
       "    </tr>\n",
       "    <tr>\n",
       "      <th>29</th>\n",
       "      <td>467</td>\n",
       "      <td>NaN</td>\n",
       "      <td>False</td>\n",
       "    </tr>\n",
       "    <tr>\n",
       "      <th>2001</th>\n",
       "      <td>3</td>\n",
       "      <td>NaN</td>\n",
       "      <td>True</td>\n",
       "    </tr>\n",
       "  </tbody>\n",
       "</table>\n",
       "</div>"
      ],
      "text/plain": [
       "        PJP    DSR   Same\n",
       "1     31051  31218  False\n",
       "2     59726  59726   True\n",
       "3     58943  58943   True\n",
       "4      1860   1860   True\n",
       "5      2544   2544   True\n",
       "6      2156   2156   True\n",
       "7      1749   1749   True\n",
       "8      2250   2250   True\n",
       "10      119    118   True\n",
       "11    25675  25675   True\n",
       "12    50228  50228   True\n",
       "13    42991  42991   True\n",
       "14       51     51   True\n",
       "15       14     14   True\n",
       "16     7583      3   True\n",
       "17     1045   7583   True\n",
       "18    26628    997   True\n",
       "19      NaN  26628   True\n",
       "20    22851  22851   True\n",
       "21      NaN  14217   True\n",
       "22    14217   1446   True\n",
       "23     1446    682  False\n",
       "24      118    781  False\n",
       "25      682    NaN  False\n",
       "26      781    467  False\n",
       "29      467    NaN  False\n",
       "2001      3    NaN   True"
      ]
     },
     "execution_count": 96,
     "metadata": {},
     "output_type": "execute_result"
    }
   ],
   "source": [
    "pjp_values = df['PJP'].value_counts()\n",
    "dsr_values = df['DSR'].value_counts()\n",
    "df_pjp_dsr = pd.concat([pjp_values, dsr_values], axis = 1)\n",
    "df_pjp_dsr['Same'] = df['PJP'] == df['DSR']\n",
    "df_pjp_dsr"
   ]
  },
  {
   "cell_type": "code",
   "execution_count": 101,
   "metadata": {
    "collapsed": false
   },
   "outputs": [
    {
     "data": {
      "text/plain": [
       "0      264268\n",
       "1        2780\n",
       "3        2765\n",
       "2        2735\n",
       "4        2715\n",
       "6        2711\n",
       "7        2698\n",
       "5        2694\n",
       "13       2685\n",
       "8        2683\n",
       "9        2665\n",
       "10       2663\n",
       "12       2662\n",
       "14       2652\n",
       "15       2637\n",
       "11       2619\n",
       "16       2600\n",
       "17       2599\n",
       "18       2559\n",
       "19       2547\n",
       "20       2500\n",
       "21       2492\n",
       "23       2471\n",
       "22       2452\n",
       "24       2402\n",
       "25       2331\n",
       "26       2260\n",
       "27       2223\n",
       "28       2143\n",
       "29       2069\n",
       "        ...  \n",
       "42        318\n",
       "43        224\n",
       "44        174\n",
       "45        133\n",
       "46        111\n",
       "47         88\n",
       "48         55\n",
       "49         41\n",
       "51         36\n",
       "50         35\n",
       "52         33\n",
       "53         20\n",
       "54         19\n",
       "55         15\n",
       "56         13\n",
       "57         10\n",
       "58          8\n",
       "59          8\n",
       "60          8\n",
       "61          8\n",
       "67          6\n",
       "62          4\n",
       "63          3\n",
       "64          2\n",
       "65          2\n",
       "66          2\n",
       "69          1\n",
       "70          1\n",
       "68          1\n",
       "999         1\n",
       "Name: HHT_SRNO, dtype: int64"
      ]
     },
     "execution_count": 101,
     "metadata": {},
     "output_type": "execute_result"
    }
   ],
   "source": [
    "df['HHT_SRNO'].value_counts()"
   ]
  },
  {
   "cell_type": "code",
   "execution_count": 102,
   "metadata": {
    "collapsed": false
   },
   "outputs": [
    {
     "data": {
      "text/plain": [
       "areeb     215790\n",
       "laraib     71554\n",
       "002        11806\n",
       "012        11568\n",
       "003        11201\n",
       "019        11063\n",
       "021        10514\n",
       "020        10224\n",
       "zahid       1154\n",
       "001          228\n",
       "022           74\n",
       "ADMIN          2\n",
       "Name: USER_ENTRY, dtype: int64"
      ]
     },
     "execution_count": 102,
     "metadata": {},
     "output_type": "execute_result"
    }
   ],
   "source": [
    "df['USER_ENTRY'].value_counts()"
   ]
  },
  {
   "cell_type": "code",
   "execution_count": 103,
   "metadata": {
    "collapsed": false
   },
   "outputs": [
    {
     "data": {
      "text/plain": [
       "1    336586\n",
       "2     18078\n",
       "Name: PAYMENT_MODE, dtype: int64"
      ]
     },
     "execution_count": 103,
     "metadata": {},
     "output_type": "execute_result"
    }
   ],
   "source": [
    "df['PAYMENT_MODE'].value_counts()"
   ]
  },
  {
   "cell_type": "code",
   "execution_count": 104,
   "metadata": {
    "collapsed": false
   },
   "outputs": [
    {
     "data": {
      "text/plain": [
       "1     346459\n",
       "21      7999\n",
       "7        720\n",
       "Name: COMPANY_RANK, dtype: int64"
      ]
     },
     "execution_count": 104,
     "metadata": {},
     "output_type": "execute_result"
    }
   ],
   "source": [
    "df['COMPANY_RANK'].value_counts()"
   ]
  },
  {
   "cell_type": "code",
   "execution_count": 105,
   "metadata": {
    "collapsed": false
   },
   "outputs": [
    {
     "data": {
      "text/plain": [
       "3    321777\n",
       "4     28642\n",
       "5      3001\n",
       "7      1276\n",
       "6       482\n",
       "Name: RANK, dtype: int64"
      ]
     },
     "execution_count": 105,
     "metadata": {},
     "output_type": "execute_result"
    }
   ],
   "source": [
    "df['RANK'].value_counts()"
   ]
  },
  {
   "cell_type": "code",
   "execution_count": 106,
   "metadata": {
    "collapsed": false
   },
   "outputs": [
    {
     "data": {
      "text/plain": [
       "1    264575\n",
       "0     90603\n",
       "Name: ACTIVE, dtype: int64"
      ]
     },
     "execution_count": 106,
     "metadata": {},
     "output_type": "execute_result"
    }
   ],
   "source": [
    "df['ACTIVE'].value_counts()"
   ]
  },
  {
   "cell_type": "code",
   "execution_count": 108,
   "metadata": {
    "collapsed": false
   },
   "outputs": [
    {
     "data": {
      "text/plain": [
       "2    355059\n",
       "1       119\n",
       "Name: AREATYPE, dtype: int64"
      ]
     },
     "execution_count": 108,
     "metadata": {},
     "output_type": "execute_result"
    }
   ],
   "source": [
    "df['AREATYPE'].value_counts()"
   ]
  },
  {
   "cell_type": "code",
   "execution_count": 109,
   "metadata": {
    "collapsed": false
   },
   "outputs": [
    {
     "data": {
      "text/plain": [
       "RG    241177\n",
       "01    108482\n",
       "L1       363\n",
       "Name: SHOPPER_TYPE, dtype: int64"
      ]
     },
     "execution_count": 109,
     "metadata": {},
     "output_type": "execute_result"
    }
   ],
   "source": [
    "df['SHOPPER_TYPE'].value_counts()"
   ]
  },
  {
   "cell_type": "code",
   "execution_count": 110,
   "metadata": {
    "collapsed": false
   },
   "outputs": [
    {
     "data": {
      "text/plain": [
       "1    263014\n",
       "3     92164\n",
       "Name: GEOCODE, dtype: int64"
      ]
     },
     "execution_count": 110,
     "metadata": {},
     "output_type": "execute_result"
    }
   ],
   "source": [
    "df['GEOCODE'].value_counts()"
   ]
  },
  {
   "cell_type": "code",
   "execution_count": 111,
   "metadata": {
    "collapsed": false
   },
   "outputs": [
    {
     "data": {
      "text/plain": [
       "N    263014\n",
       "Y     92164\n",
       "Name: RURAL, dtype: int64"
      ]
     },
     "execution_count": 111,
     "metadata": {},
     "output_type": "execute_result"
    }
   ],
   "source": [
    "df['RURAL'].value_counts()"
   ]
  },
  {
   "cell_type": "code",
   "execution_count": 112,
   "metadata": {
    "collapsed": false
   },
   "outputs": [
    {
     "data": {
      "text/plain": [
       "2    202883\n",
       "3     74236\n",
       "1     40869\n",
       "4     31087\n",
       "5      6103\n",
       "Name: ELEMENT, dtype: int64"
      ]
     },
     "execution_count": 112,
     "metadata": {},
     "output_type": "execute_result"
    }
   ],
   "source": [
    "df['ELEMENT'].value_counts()"
   ]
  },
  {
   "cell_type": "code",
   "execution_count": 113,
   "metadata": {
    "collapsed": false
   },
   "outputs": [
    {
     "data": {
      "text/plain": [
       "4     198996\n",
       "9      42831\n",
       "7      31405\n",
       "1      27856\n",
       "12     14603\n",
       "16     11873\n",
       "6       6323\n",
       "3       6103\n",
       "5       4220\n",
       "2       3887\n",
       "10      3231\n",
       "8       1879\n",
       "17       743\n",
       "11       598\n",
       "19       334\n",
       "20       268\n",
       "15        28\n",
       "Name: SUB_ELEMENT, dtype: int64"
      ]
     },
     "execution_count": 113,
     "metadata": {},
     "output_type": "execute_result"
    }
   ],
   "source": [
    "df['SUB_ELEMENT'].value_counts()"
   ]
  },
  {
   "cell_type": "code",
   "execution_count": 114,
   "metadata": {
    "collapsed": false
   },
   "outputs": [
    {
     "data": {
      "text/plain": [
       "1    341964\n",
       "2     11873\n",
       "3      1341\n",
       "Name: CHANNEL, dtype: int64"
      ]
     },
     "execution_count": 114,
     "metadata": {},
     "output_type": "execute_result"
    }
   ],
   "source": [
    "df['CHANNEL'].value_counts()"
   ]
  },
  {
   "cell_type": "code",
   "execution_count": 115,
   "metadata": {
    "collapsed": false
   },
   "outputs": [
    {
     "data": {
      "text/plain": [
       "1    297781\n",
       "4     47052\n",
       "2     10077\n",
       "3       268\n",
       "Name: SUB_CHANNEL, dtype: int64"
      ]
     },
     "execution_count": 115,
     "metadata": {},
     "output_type": "execute_result"
    }
   ],
   "source": [
    "df['SUB_CHANNEL'].value_counts()"
   ]
  },
  {
   "cell_type": "code",
   "execution_count": null,
   "metadata": {
    "collapsed": true
   },
   "outputs": [],
   "source": []
  }
 ],
 "metadata": {
  "kernelspec": {
   "display_name": "Python 3",
   "language": "python",
   "name": "python3"
  },
  "language_info": {
   "codemirror_mode": {
    "name": "ipython",
    "version": 3
   },
   "file_extension": ".py",
   "mimetype": "text/x-python",
   "name": "python",
   "nbconvert_exporter": "python",
   "pygments_lexer": "ipython3",
   "version": "3.5.0"
  }
 },
 "nbformat": 4,
 "nbformat_minor": 0
}
